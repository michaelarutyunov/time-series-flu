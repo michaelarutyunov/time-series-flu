{
 "cells": [
  {
   "cell_type": "markdown",
   "id": "cell-0",
   "metadata": {},
   "source": [
    "# 02c LightGBM Hyperparameter Optimization with Optuna\n",
    "\n",
    "Optimize LightGBM hyperparameters using Optuna with CRPS minimization on validation set.\n",
    "\n",
    "**Core Configuration:**\n",
    "- Horizons: 7, 28 days ahead (same as nb/02)\n",
    "- Origins: Bi-weekly from 2024-07-08 to 2025-05-26\n",
    "- Minimum training window: 730 days (2 years)\n",
    "- Optimization: 25 Optuna trials with TPESampler(seed=42)\n",
    "- Objective: Minimize CRPS on validation set (July-Sep 2024)\n",
    "\n",
    "**Output:** `results/forecasts/lightgbm_optuna.parquet` with model='LightGBM_Optimized'"
   ]
  },
  {
   "cell_type": "markdown",
   "id": "cell-1",
   "metadata": {},
   "source": [
    "## 0. Setup"
   ]
  },
  {
   "cell_type": "markdown",
   "id": "cell-2",
   "metadata": {},
   "source": [
    "### Imports"
   ]
  },
  {
   "cell_type": "code",
   "execution_count": 1,
   "id": "cell-3",
   "metadata": {},
   "outputs": [],
   "source": [
    "import pandas as pd\n",
    "import numpy as np\n",
    "from pathlib import Path\n",
    "from tqdm import tqdm\n",
    "import warnings\n",
    "warnings.filterwarnings('ignore')"
   ]
  },
  {
   "cell_type": "code",
   "execution_count": 2,
   "id": "cell-4",
   "metadata": {},
   "outputs": [],
   "source": [
    "# Model and optimization imports\n",
    "import lightgbm as lgb\n",
    "import optuna\n",
    "from optuna.visualization import plot_optimization_history, plot_param_importances\n",
    "import joblib\n",
    "import json"
   ]
  },
  {
   "cell_type": "code",
   "execution_count": 3,
   "id": "cell-5",
   "metadata": {},
   "outputs": [],
   "source": [
    "# Set random seeds for reproducibility\n",
    "np.random.seed(42)"
   ]
  },
  {
   "cell_type": "code",
   "execution_count": 4,
   "id": "cell-6",
   "metadata": {},
   "outputs": [],
   "source": [
    "# Define paths\n",
    "project_root = Path.cwd().parent\n",
    "data_dir = project_root / 'data'\n",
    "results_dir = project_root / 'results' / 'forecasts'\n",
    "optimization_dir = project_root / 'results' / 'optimization'\n",
    "figures_dir = project_root / 'results' / 'figures'\n",
    "\n",
    "# Create directories if they don't exist\n",
    "results_dir.mkdir(parents=True, exist_ok=True)\n",
    "optimization_dir.mkdir(parents=True, exist_ok=True)\n",
    "figures_dir.mkdir(parents=True, exist_ok=True)"
   ]
  },
  {
   "cell_type": "markdown",
   "id": "cell-7",
   "metadata": {},
   "source": [
    "### Load Data"
   ]
  },
  {
   "cell_type": "code",
   "execution_count": 5,
   "id": "cell-8",
   "metadata": {},
   "outputs": [
    {
     "name": "stdout",
     "output_type": "stream",
     "text": [
      "Loaded data: 1078 observations\n",
      "Date range: 2022-07-04 00:00:00 to 2025-06-15 00:00:00\n",
      "Frequency: <Day>\n"
     ]
    }
   ],
   "source": [
    "# Load cleaned time series\n",
    "ts = pd.read_pickle(data_dir / 'flu_daily_clean.pkl')\n",
    "print(f\"Loaded data: {ts.shape[0]} observations\")\n",
    "print(f\"Date range: {ts.index.min()} to {ts.index.max()}\")\n",
    "print(f\"Frequency: {ts.index.freq}\")"
   ]
  },
  {
   "cell_type": "markdown",
   "id": "cell-9",
   "metadata": {},
   "source": [
    "### Configure Rolling Windows"
   ]
  },
  {
   "cell_type": "code",
   "execution_count": 6,
   "id": "cell-10",
   "metadata": {},
   "outputs": [
    {
     "name": "stdout",
     "output_type": "stream",
     "text": [
      "Forecast horizons: [7, 28]\n",
      "Number of forecast origins: 24 (bi-weekly)\n",
      "Minimum training days: 730\n",
      "Total forecasts: 48\n"
     ]
    }
   ],
   "source": [
    "# Forecast configuration (same as nb/02)\n",
    "HORIZONS = [7, 28]  # Short-term (weekly) vs long-term (monthly) forecasts\n",
    "ORIGINS = pd.date_range('2024-07-08', '2025-05-26', freq='2W-MON')  # Bi-weekly origins\n",
    "MIN_TRAIN = 730  # 2 years minimum training data\n",
    "\n",
    "print(f\"Forecast horizons: {HORIZONS}\")\n",
    "print(f\"Number of forecast origins: {len(ORIGINS)} (bi-weekly)\")\n",
    "print(f\"Minimum training days: {MIN_TRAIN}\")\n",
    "print(f\"Total forecasts: {len(ORIGINS) * len(HORIZONS)}\")"
   ]
  },
  {
   "cell_type": "markdown",
   "id": "cell-11",
   "metadata": {},
   "source": [
    "## 1. Helper Functions"
   ]
  },
  {
   "cell_type": "code",
   "execution_count": 7,
   "id": "cell-12",
   "metadata": {},
   "outputs": [],
   "source": [
    "def build_fourier_terms(dates, period=365, order=2):\n",
    "    \"\"\"\n",
    "    Build Fourier terms for seasonality from date index.\n",
    "\n",
    "    Parameters\n",
    "    ----------\n",
    "    dates : pd.DatetimeIndex\n",
    "        Date index to compute Fourier terms for\n",
    "    period : int\n",
    "        Seasonal period (365 for annual cycle)\n",
    "    order : int\n",
    "        Number of sine/cosine pairs (order=2 gives 4 terms)\n",
    "\n",
    "    Returns\n",
    "    -------\n",
    "    pd.DataFrame\n",
    "        Fourier terms with columns sin1, cos1, sin2, cos2, ...\n",
    "    \"\"\"\n",
    "    fourier = pd.DataFrame(index=dates)\n",
    "    for k in range(1, order + 1):\n",
    "        fourier[f'sin{k}'] = np.sin(2 * np.pi * k * np.arange(len(dates)) / period)\n",
    "        fourier[f'cos{k}'] = np.cos(2 * np.pi * k * np.arange(len(dates)) / period)\n",
    "    return fourier"
   ]
  },
  {
   "cell_type": "code",
   "execution_count": 8,
   "id": "cell-13",
   "metadata": {},
   "outputs": [],
   "source": [
    "def build_lag_features(series, lags=[1, 2, 3, 7, 14]):\n",
    "    \"\"\"\n",
    "    Build lag features from a time series.\n",
    "\n",
    "    Parameters\n",
    "    ----------\n",
    "    series : pd.Series\n",
    "        Time series to create lags from\n",
    "    lags : list of int\n",
    "        Lag values to create\n",
    "\n",
    "    Returns\n",
    "    -------\n",
    "    pd.DataFrame\n",
    "        Dataframe with lag columns\n",
    "    \"\"\"\n",
    "    lag_df = pd.DataFrame(index=series.index)\n",
    "    for lag in lags:\n",
    "        lag_df[f'lag_{lag}'] = series.shift(lag)\n",
    "    return lag_df"
   ]
  },
  {
   "cell_type": "code",
   "execution_count": 9,
   "id": "cell-14",
   "metadata": {},
   "outputs": [],
   "source": [
    "def compute_crps(y_true, q10, q50, q90):\n",
    "    \"\"\"\n",
    "    Compute approximate CRPS using three quantiles.\n",
    "\n",
    "    CRPS approximation based on quantile coverage:\n",
    "    CRPS ≈ 0.1 * |y - q10| + 0.8 * |y - q50| + 0.1 * |y - q90|\n",
    "\n",
    "    Parameters\n",
    "    ----------\n",
    "    y_true : float or array-like\n",
    "        True values\n",
    "    q10 : float or array-like\n",
    "        0.1 quantile predictions\n",
    "    q50 : float or array-like\n",
    "        0.5 quantile predictions (median)\n",
    "    q90 : float or array-like\n",
    "        0.9 quantile predictions\n",
    "\n",
    "    Returns\n",
    "    -------\n",
    "    float\n",
    "        Mean CRPS across all observations\n",
    "    \"\"\"\n",
    "    y_true = np.asarray(y_true)\n",
    "    q10 = np.asarray(q10)\n",
    "    q50 = np.asarray(q50)\n",
    "    q90 = np.asarray(q90)\n",
    "\n",
    "    crps = 0.1 * np.abs(y_true - q10) + 0.8 * np.abs(y_true - q50) + 0.1 * np.abs(y_true - q90)\n",
    "    return np.mean(crps)"
   ]
  },
  {
   "cell_type": "markdown",
   "id": "cell-15",
   "metadata": {},
   "source": [
    "## 2. Validation Set Preparation"
   ]
  },
  {
   "cell_type": "code",
   "execution_count": 10,
   "id": "cell-16",
   "metadata": {},
   "outputs": [
    {
     "name": "stdout",
     "output_type": "stream",
     "text": [
      "Training set: 727 days (2022-07-04 00:00:00 to 2024-06-29 00:00:00)\n",
      "Validation set: 92 days (2024-07-01 00:00:00 to 2024-09-30 00:00:00)\n"
     ]
    }
   ],
   "source": [
    "# Define train/validation split\n",
    "TRAIN_END = pd.Timestamp('2024-06-30')\n",
    "VAL_START = pd.Timestamp('2024-07-01')\n",
    "VAL_END = pd.Timestamp('2024-09-30')\n",
    "\n",
    "# Split data\n",
    "train_opt = ts[ts.index < TRAIN_END]\n",
    "val_opt = ts[(ts.index >= VAL_START) & (ts.index <= VAL_END)]\n",
    "\n",
    "print(f\"Training set: {len(train_opt)} days ({train_opt.index.min()} to {train_opt.index.max()})\")\n",
    "print(f\"Validation set: {len(val_opt)} days ({val_opt.index.min()} to {val_opt.index.max()})\")"
   ]
  },
  {
   "cell_type": "markdown",
   "id": "cell-17",
   "metadata": {},
   "source": [
    "## 3. Optuna Objective Function"
   ]
  },
  {
   "cell_type": "code",
   "execution_count": 11,
   "id": "cell-18",
   "metadata": {},
   "outputs": [],
   "source": [
    "def lightgbm_forecast_single_quantile(train_series, horizon, quantile, params, lags=[1, 2, 3, 7, 14], fourier_order=2, period=365):\n",
    "    \"\"\"\n",
    "    Forecast with LightGBM for a single quantile.\n",
    "\n",
    "    Parameters\n",
    "    ----------\n",
    "    train_series : pd.Series\n",
    "        Training data (datetime-indexed)\n",
    "    horizon : int\n",
    "        Number of steps ahead to forecast\n",
    "    quantile : float\n",
    "        Target quantile (e.g., 0.1, 0.5, 0.9)\n",
    "    params : dict\n",
    "        LightGBM hyperparameters\n",
    "    lags : list of int\n",
    "        Lag features to create\n",
    "    fourier_order : int\n",
    "        Number of Fourier term pairs\n",
    "    period : int\n",
    "        Seasonal period for Fourier terms\n",
    "\n",
    "    Returns\n",
    "    -------\n",
    "    float\n",
    "        Forecast value at target horizon\n",
    "    \"\"\"\n",
    "    # Build lag features\n",
    "    lag_df = build_lag_features(train_series, lags=lags)\n",
    "\n",
    "    # Build Fourier features\n",
    "    fourier_df = build_fourier_terms(train_series.index, period=period, order=fourier_order)\n",
    "\n",
    "    # Combine features\n",
    "    X_train = pd.concat([lag_df, fourier_df], axis=1).dropna()\n",
    "    y_train = train_series.loc[X_train.index]\n",
    "\n",
    "    # Train model with specified hyperparameters\n",
    "    model_params = params.copy()\n",
    "    model_params['objective'] = 'quantile'\n",
    "    model_params['alpha'] = quantile\n",
    "    model_params['random_state'] = 42\n",
    "    model_params['verbose'] = -1\n",
    "\n",
    "    model = lgb.LGBMRegressor(**model_params)\n",
    "    model.fit(X_train, y_train)\n",
    "\n",
    "    # Multi-step forecast (iterative)\n",
    "    current_series = train_series.copy()\n",
    "\n",
    "    for step in range(horizon):\n",
    "        # Build features for next step\n",
    "        lag_feats = build_lag_features(current_series, lags=lags).iloc[-1:]\n",
    "\n",
    "        # Fourier terms for next date\n",
    "        next_date = current_series.index[-1] + pd.Timedelta(days=1)\n",
    "        fourier_feats = build_fourier_terms(pd.DatetimeIndex([next_date]), period=period, order=fourier_order)\n",
    "\n",
    "        # Combine and predict\n",
    "        X_next = pd.concat([lag_feats, fourier_feats], axis=1)\n",
    "        pred = model.predict(X_next)[0]\n",
    "\n",
    "        # Append prediction to series for next iteration\n",
    "        current_series = pd.concat([\n",
    "            current_series,\n",
    "            pd.Series([pred], index=[next_date])\n",
    "        ])\n",
    "\n",
    "    return float(pred)"
   ]
  },
  {
   "cell_type": "code",
   "execution_count": 12,
   "id": "cell-19",
   "metadata": {},
   "outputs": [],
   "source": [
    "def objective(trial):\n",
    "    \"\"\"\n",
    "    Optuna objective function: minimize CRPS on validation set.\n",
    "\n",
    "    Optimizes for median (q=0.5) and evaluates CRPS using all three quantiles.\n",
    "    \"\"\"\n",
    "    # Suggest hyperparameters\n",
    "    params = {\n",
    "        'n_estimators': trial.suggest_int('n_estimators', 50, 500),\n",
    "        'max_depth': trial.suggest_int('max_depth', 3, 10),\n",
    "        'learning_rate': trial.suggest_float('learning_rate', 0.01, 0.2, log=True),\n",
    "    }\n",
    "\n",
    "    # Generate forecasts on validation set for both horizons\n",
    "    y_true = []\n",
    "    y_pred_q10 = []\n",
    "    y_pred_q50 = []\n",
    "    y_pred_q90 = []\n",
    "\n",
    "    # Evaluate on a subset of validation dates (for speed)\n",
    "    val_origins = pd.date_range('2024-07-08', '2024-09-23', freq='W-MON')  # Weekly samples\n",
    "\n",
    "    for origin in val_origins:\n",
    "        # Training data up to origin\n",
    "        train = ts[ts.index < origin]\n",
    "\n",
    "        if len(train) < MIN_TRAIN:\n",
    "            continue\n",
    "\n",
    "        for horizon in HORIZONS:\n",
    "            target_date = origin + pd.Timedelta(days=horizon - 1)\n",
    "\n",
    "            # Skip if target is beyond validation period\n",
    "            if target_date not in val_opt.index:\n",
    "                continue\n",
    "\n",
    "            actual = val_opt.loc[target_date]\n",
    "\n",
    "            # Generate predictions for all three quantiles\n",
    "            try:\n",
    "                pred_q10 = lightgbm_forecast_single_quantile(train, horizon, 0.1, params)\n",
    "                pred_q50 = lightgbm_forecast_single_quantile(train, horizon, 0.5, params)\n",
    "                pred_q90 = lightgbm_forecast_single_quantile(train, horizon, 0.9, params)\n",
    "\n",
    "                # Enforce quantile monotonicity\n",
    "                pred_q10 = min(pred_q10, pred_q50)\n",
    "                pred_q90 = max(pred_q50, pred_q90)\n",
    "\n",
    "                y_true.append(actual)\n",
    "                y_pred_q10.append(pred_q10)\n",
    "                y_pred_q50.append(pred_q50)\n",
    "                y_pred_q90.append(pred_q90)\n",
    "            except Exception as e:\n",
    "                # Skip failed forecasts\n",
    "                continue\n",
    "\n",
    "    # Compute CRPS\n",
    "    if len(y_true) == 0:\n",
    "        return float('inf')  # Penalize failed trials\n",
    "\n",
    "    crps_score = compute_crps(y_true, y_pred_q10, y_pred_q50, y_pred_q90)\n",
    "\n",
    "    return crps_score"
   ]
  },
  {
   "cell_type": "markdown",
   "id": "cell-20",
   "metadata": {},
   "source": [
    "## 4. Run Optuna Optimization"
   ]
  },
  {
   "cell_type": "code",
   "execution_count": 13,
   "id": "cell-21",
   "metadata": {},
   "outputs": [
    {
     "name": "stderr",
     "output_type": "stream",
     "text": [
      "[I 2025-10-16 09:31:37,928] A new study created in memory with name: lightgbm_crps_optimization\n"
     ]
    },
    {
     "name": "stdout",
     "output_type": "stream",
     "text": [
      "Starting Optuna hyperparameter optimization...\n",
      "Trials: 25\n",
      "Objective: Minimize CRPS on validation set (July-Sep 2024)\n",
      "\n",
      "This will take approximately 15-20 minutes...\n",
      "\n"
     ]
    },
    {
     "data": {
      "application/vnd.jupyter.widget-view+json": {
       "model_id": "bf2067d1f12642b9adefddf70521e086",
       "version_major": 2,
       "version_minor": 0
      },
      "text/plain": [
       "  0%|          | 0/25 [00:00<?, ?it/s]"
      ]
     },
     "metadata": {},
     "output_type": "display_data"
    },
    {
     "name": "stdout",
     "output_type": "stream",
     "text": [
      "[I 2025-10-16 09:31:44,139] Trial 0 finished with value: 0.3069851473117954 and parameters: {'n_estimators': 218, 'max_depth': 10, 'learning_rate': 0.08960785365368121}. Best is trial 0 with value: 0.3069851473117954.\n",
      "[I 2025-10-16 09:31:48,950] Trial 1 finished with value: 0.4747679233433221 and parameters: {'n_estimators': 319, 'max_depth': 4, 'learning_rate': 0.015957084694148364}. Best is trial 0 with value: 0.3069851473117954.\n",
      "[I 2025-10-16 09:31:52,602] Trial 2 finished with value: 0.5004897230605911 and parameters: {'n_estimators': 76, 'max_depth': 9, 'learning_rate': 0.06054365855469246}. Best is trial 0 with value: 0.3069851473117954.\n",
      "[I 2025-10-16 09:31:57,233] Trial 3 finished with value: 0.2854345567706134 and parameters: {'n_estimators': 369, 'max_depth': 3, 'learning_rate': 0.18276027831785724}. Best is trial 3 with value: 0.2854345567706134.\n",
      "[I 2025-10-16 09:32:02,423] Trial 4 finished with value: 0.35550493841365244 and parameters: {'n_estimators': 425, 'max_depth': 4, 'learning_rate': 0.017240892195821537}. Best is trial 3 with value: 0.2854345567706134.\n",
      "[I 2025-10-16 09:32:06,142] Trial 5 finished with value: 0.42109178112173395 and parameters: {'n_estimators': 132, 'max_depth': 5, 'learning_rate': 0.048164145309070844}. Best is trial 3 with value: 0.2854345567706134.\n",
      "[I 2025-10-16 09:32:10,664] Trial 6 finished with value: 0.31276953370140687 and parameters: {'n_estimators': 244, 'max_depth': 5, 'learning_rate': 0.06252287916406217}. Best is trial 3 with value: 0.2854345567706134.\n",
      "[I 2025-10-16 09:32:14,363] Trial 7 finished with value: 0.6382390624245153 and parameters: {'n_estimators': 112, 'max_depth': 5, 'learning_rate': 0.029967309097101588}. Best is trial 3 with value: 0.2854345567706134.\n",
      "[I 2025-10-16 09:32:19,615] Trial 8 finished with value: 0.47355612376765965 and parameters: {'n_estimators': 255, 'max_depth': 9, 'learning_rate': 0.018187859051288217}. Best is trial 3 with value: 0.2854345567706134.\n",
      "[I 2025-10-16 09:32:25,123] Trial 9 finished with value: 0.7437170545486322 and parameters: {'n_estimators': 281, 'max_depth': 7, 'learning_rate': 0.011492999300221412}. Best is trial 3 with value: 0.2854345567706134.\n",
      "[I 2025-10-16 09:32:29,973] Trial 10 finished with value: 0.3056514946364191 and parameters: {'n_estimators': 486, 'max_depth': 3, 'learning_rate': 0.1825563159902062}. Best is trial 3 with value: 0.2854345567706134.\n",
      "[I 2025-10-16 09:32:34,849] Trial 11 finished with value: 0.33636540239504775 and parameters: {'n_estimators': 471, 'max_depth': 3, 'learning_rate': 0.1516698036977949}. Best is trial 3 with value: 0.2854345567706134.\n",
      "[I 2025-10-16 09:32:39,433] Trial 12 finished with value: 0.30284779463320805 and parameters: {'n_estimators': 386, 'max_depth': 3, 'learning_rate': 0.18994930722138828}. Best is trial 3 with value: 0.2854345567706134.\n",
      "[I 2025-10-16 09:32:45,725] Trial 13 finished with value: 0.2952922983495211 and parameters: {'n_estimators': 373, 'max_depth': 7, 'learning_rate': 0.10361340935311525}. Best is trial 3 with value: 0.2854345567706134.\n",
      "[I 2025-10-16 09:32:51,974] Trial 14 finished with value: 0.3165657887319863 and parameters: {'n_estimators': 356, 'max_depth': 7, 'learning_rate': 0.11050292222716604}. Best is trial 3 with value: 0.2854345567706134.\n",
      "[I 2025-10-16 09:32:59,164] Trial 15 finished with value: 0.29921314606946275 and parameters: {'n_estimators': 404, 'max_depth': 8, 'learning_rate': 0.10819270591094644}. Best is trial 3 with value: 0.2854345567706134.\n",
      "[I 2025-10-16 09:33:04,982] Trial 16 finished with value: 0.31995163987385644 and parameters: {'n_estimators': 332, 'max_depth': 6, 'learning_rate': 0.08182820040848858}. Best is trial 3 with value: 0.2854345567706134.\n",
      "[I 2025-10-16 09:33:09,520] Trial 17 finished with value: 0.31225955709697384 and parameters: {'n_estimators': 195, 'max_depth': 6, 'learning_rate': 0.13622756644495823}. Best is trial 3 with value: 0.2854345567706134.\n",
      "[I 2025-10-16 09:33:16,948] Trial 18 finished with value: 0.25699300938847813 and parameters: {'n_estimators': 439, 'max_depth': 8, 'learning_rate': 0.0326376815988589}. Best is trial 18 with value: 0.25699300938847813.\n",
      "[I 2025-10-16 09:33:24,366] Trial 19 finished with value: 0.31236625377698535 and parameters: {'n_estimators': 450, 'max_depth': 8, 'learning_rate': 0.031433638362608055}. Best is trial 18 with value: 0.25699300938847813.\n",
      "[I 2025-10-16 09:33:33,164] Trial 20 finished with value: 0.2993469043678775 and parameters: {'n_estimators': 500, 'max_depth': 10, 'learning_rate': 0.03140981387390704}. Best is trial 18 with value: 0.25699300938847813.\n",
      "[I 2025-10-16 09:33:39,853] Trial 21 finished with value: 0.29583331376395977 and parameters: {'n_estimators': 373, 'max_depth': 8, 'learning_rate': 0.04102792858907161}. Best is trial 18 with value: 0.25699300938847813.\n",
      "[I 2025-10-16 09:33:46,930] Trial 22 finished with value: 0.3173138943066941 and parameters: {'n_estimators': 426, 'max_depth': 7, 'learning_rate': 0.13465882169765567}. Best is trial 18 with value: 0.25699300938847813.\n",
      "[I 2025-10-16 09:33:52,879] Trial 23 finished with value: 0.2887811549940415 and parameters: {'n_estimators': 315, 'max_depth': 9, 'learning_rate': 0.023795731652377708}. Best is trial 18 with value: 0.25699300938847813.\n",
      "[I 2025-10-16 09:33:58,804] Trial 24 finished with value: 0.3052999097288933 and parameters: {'n_estimators': 302, 'max_depth': 9, 'learning_rate': 0.02347329057841003}. Best is trial 18 with value: 0.25699300938847813.\n",
      "\n",
      "✅ Optimization complete!\n",
      "\n",
      "Best CRPS: 0.2570\n",
      "\n",
      "Best hyperparameters:\n",
      "  n_estimators: 439\n",
      "  max_depth: 8\n",
      "  learning_rate: 0.0326376815988589\n"
     ]
    }
   ],
   "source": [
    "# Create Optuna study\n",
    "print(\"Starting Optuna hyperparameter optimization...\")\n",
    "print(f\"Trials: 25\")\n",
    "print(f\"Objective: Minimize CRPS on validation set (July-Sep 2024)\")\n",
    "print(\"\\nThis will take approximately 15-20 minutes...\\n\")\n",
    "\n",
    "study = optuna.create_study(\n",
    "    direction='minimize',\n",
    "    sampler=optuna.samplers.TPESampler(seed=42),\n",
    "    study_name='lightgbm_crps_optimization'\n",
    ")\n",
    "\n",
    "# Run optimization\n",
    "study.optimize(objective, n_trials=25, show_progress_bar=True)\n",
    "\n",
    "print(\"\\n✅ Optimization complete!\")\n",
    "print(f\"\\nBest CRPS: {study.best_value:.4f}\")\n",
    "print(f\"\\nBest hyperparameters:\")\n",
    "for param, value in study.best_params.items():\n",
    "    print(f\"  {param}: {value}\")"
   ]
  },
  {
   "cell_type": "markdown",
   "id": "cell-22",
   "metadata": {},
   "source": [
    "## 5. Save Optimization Artifacts"
   ]
  },
  {
   "cell_type": "code",
   "execution_count": 14,
   "id": "cell-23",
   "metadata": {},
   "outputs": [
    {
     "name": "stdout",
     "output_type": "stream",
     "text": [
      "Saved study: /home/mikhailarutyunov/projects/time-series-flu/results/optimization/optuna_study.pkl\n"
     ]
    }
   ],
   "source": [
    "# Save Optuna study\n",
    "study_path = optimization_dir / 'optuna_study.pkl'\n",
    "joblib.dump(study, study_path)\n",
    "print(f\"Saved study: {study_path}\")"
   ]
  },
  {
   "cell_type": "code",
   "execution_count": 15,
   "id": "cell-24",
   "metadata": {},
   "outputs": [
    {
     "name": "stdout",
     "output_type": "stream",
     "text": [
      "Saved best params: /home/mikhailarutyunov/projects/time-series-flu/results/optimization/lightgbm_best_params.json\n"
     ]
    }
   ],
   "source": [
    "# Save best hyperparameters\n",
    "params_path = optimization_dir / 'lightgbm_best_params.json'\n",
    "with open(params_path, 'w') as f:\n",
    "    json.dump(study.best_params, f, indent=2)\n",
    "print(f\"Saved best params: {params_path}\")"
   ]
  },
  {
   "cell_type": "code",
   "execution_count": 16,
   "id": "cell-25",
   "metadata": {},
   "outputs": [
    {
     "name": "stdout",
     "output_type": "stream",
     "text": [
      "Saved history: /home/mikhailarutyunov/projects/time-series-flu/results/optimization/optuna_history.csv\n",
      "\n",
      "Optimization history preview:\n",
      "   number     value  params_n_estimators  params_max_depth  \\\n",
      "0       0  0.306985                  218                10   \n",
      "1       1  0.474768                  319                 4   \n",
      "2       2  0.500490                   76                 9   \n",
      "3       3  0.285435                  369                 3   \n",
      "4       4  0.355505                  425                 4   \n",
      "\n",
      "   params_learning_rate  \n",
      "0              0.089608  \n",
      "1              0.015957  \n",
      "2              0.060544  \n",
      "3              0.182760  \n",
      "4              0.017241  \n"
     ]
    }
   ],
   "source": [
    "# Save optimization history\n",
    "history_df = study.trials_dataframe()\n",
    "history_path = optimization_dir / 'optuna_history.csv'\n",
    "history_df.to_csv(history_path, index=False)\n",
    "print(f\"Saved history: {history_path}\")\n",
    "print(f\"\\nOptimization history preview:\")\n",
    "print(history_df[['number', 'value', 'params_n_estimators', 'params_max_depth', 'params_learning_rate']].head())"
   ]
  },
  {
   "cell_type": "markdown",
   "id": "cell-26",
   "metadata": {},
   "source": [
    "## 6. Optuna Visualizations"
   ]
  },
  {
   "cell_type": "code",
   "execution_count": 17,
   "id": "cell-27",
   "metadata": {},
   "outputs": [
    {
     "name": "stdout",
     "output_type": "stream",
     "text": [
      "⚠️  Could not save PNG image: \n",
      "\n",
      "Kaleido requires Google Chrome to be installed.\n",
      "\n",
      "Either download and install Chrome yourself following Google's instructions for your operating system,\n",
      "or install it from your terminal by running:\n",
      "\n",
      "    $ plotly_get_chrome\n",
      "\n",
      "\n",
      "   Install kaleido for image export: uv pip install kaleido\n"
     ]
    },
    {
     "data": {
      "application/vnd.plotly.v1+json": {
       "config": {
        "plotlyServerURL": "https://plot.ly"
       },
       "data": [
        {
         "mode": "markers",
         "name": "Objective Value",
         "type": "scatter",
         "x": [
          0,
          1,
          2,
          3,
          4,
          5,
          6,
          7,
          8,
          9,
          10,
          11,
          12,
          13,
          14,
          15,
          16,
          17,
          18,
          19,
          20,
          21,
          22,
          23,
          24
         ],
         "y": [
          0.3069851473117954,
          0.4747679233433221,
          0.5004897230605911,
          0.2854345567706134,
          0.35550493841365244,
          0.42109178112173395,
          0.31276953370140687,
          0.6382390624245153,
          0.47355612376765965,
          0.7437170545486322,
          0.3056514946364191,
          0.33636540239504775,
          0.30284779463320805,
          0.2952922983495211,
          0.3165657887319863,
          0.29921314606946275,
          0.31995163987385644,
          0.31225955709697384,
          0.25699300938847813,
          0.31236625377698535,
          0.2993469043678775,
          0.29583331376395977,
          0.3173138943066941,
          0.2887811549940415,
          0.3052999097288933
         ]
        },
        {
         "mode": "lines",
         "name": "Best Value",
         "type": "scatter",
         "x": [
          0,
          1,
          2,
          3,
          4,
          5,
          6,
          7,
          8,
          9,
          10,
          11,
          12,
          13,
          14,
          15,
          16,
          17,
          18,
          19,
          20,
          21,
          22,
          23,
          24
         ],
         "y": [
          0.3069851473117954,
          0.3069851473117954,
          0.3069851473117954,
          0.2854345567706134,
          0.2854345567706134,
          0.2854345567706134,
          0.2854345567706134,
          0.2854345567706134,
          0.2854345567706134,
          0.2854345567706134,
          0.2854345567706134,
          0.2854345567706134,
          0.2854345567706134,
          0.2854345567706134,
          0.2854345567706134,
          0.2854345567706134,
          0.2854345567706134,
          0.2854345567706134,
          0.25699300938847813,
          0.25699300938847813,
          0.25699300938847813,
          0.25699300938847813,
          0.25699300938847813,
          0.25699300938847813,
          0.25699300938847813
         ]
        },
        {
         "marker": {
          "color": "#cccccc"
         },
         "mode": "markers",
         "name": "Infeasible Trial",
         "showlegend": false,
         "type": "scatter",
         "x": [],
         "y": []
        }
       ],
       "layout": {
        "template": {
         "data": {
          "bar": [
           {
            "error_x": {
             "color": "#2a3f5f"
            },
            "error_y": {
             "color": "#2a3f5f"
            },
            "marker": {
             "line": {
              "color": "#E5ECF6",
              "width": 0.5
             },
             "pattern": {
              "fillmode": "overlay",
              "size": 10,
              "solidity": 0.2
             }
            },
            "type": "bar"
           }
          ],
          "barpolar": [
           {
            "marker": {
             "line": {
              "color": "#E5ECF6",
              "width": 0.5
             },
             "pattern": {
              "fillmode": "overlay",
              "size": 10,
              "solidity": 0.2
             }
            },
            "type": "barpolar"
           }
          ],
          "carpet": [
           {
            "aaxis": {
             "endlinecolor": "#2a3f5f",
             "gridcolor": "white",
             "linecolor": "white",
             "minorgridcolor": "white",
             "startlinecolor": "#2a3f5f"
            },
            "baxis": {
             "endlinecolor": "#2a3f5f",
             "gridcolor": "white",
             "linecolor": "white",
             "minorgridcolor": "white",
             "startlinecolor": "#2a3f5f"
            },
            "type": "carpet"
           }
          ],
          "choropleth": [
           {
            "colorbar": {
             "outlinewidth": 0,
             "ticks": ""
            },
            "type": "choropleth"
           }
          ],
          "contour": [
           {
            "colorbar": {
             "outlinewidth": 0,
             "ticks": ""
            },
            "colorscale": [
             [
              0,
              "#0d0887"
             ],
             [
              0.1111111111111111,
              "#46039f"
             ],
             [
              0.2222222222222222,
              "#7201a8"
             ],
             [
              0.3333333333333333,
              "#9c179e"
             ],
             [
              0.4444444444444444,
              "#bd3786"
             ],
             [
              0.5555555555555556,
              "#d8576b"
             ],
             [
              0.6666666666666666,
              "#ed7953"
             ],
             [
              0.7777777777777778,
              "#fb9f3a"
             ],
             [
              0.8888888888888888,
              "#fdca26"
             ],
             [
              1,
              "#f0f921"
             ]
            ],
            "type": "contour"
           }
          ],
          "contourcarpet": [
           {
            "colorbar": {
             "outlinewidth": 0,
             "ticks": ""
            },
            "type": "contourcarpet"
           }
          ],
          "heatmap": [
           {
            "colorbar": {
             "outlinewidth": 0,
             "ticks": ""
            },
            "colorscale": [
             [
              0,
              "#0d0887"
             ],
             [
              0.1111111111111111,
              "#46039f"
             ],
             [
              0.2222222222222222,
              "#7201a8"
             ],
             [
              0.3333333333333333,
              "#9c179e"
             ],
             [
              0.4444444444444444,
              "#bd3786"
             ],
             [
              0.5555555555555556,
              "#d8576b"
             ],
             [
              0.6666666666666666,
              "#ed7953"
             ],
             [
              0.7777777777777778,
              "#fb9f3a"
             ],
             [
              0.8888888888888888,
              "#fdca26"
             ],
             [
              1,
              "#f0f921"
             ]
            ],
            "type": "heatmap"
           }
          ],
          "histogram": [
           {
            "marker": {
             "pattern": {
              "fillmode": "overlay",
              "size": 10,
              "solidity": 0.2
             }
            },
            "type": "histogram"
           }
          ],
          "histogram2d": [
           {
            "colorbar": {
             "outlinewidth": 0,
             "ticks": ""
            },
            "colorscale": [
             [
              0,
              "#0d0887"
             ],
             [
              0.1111111111111111,
              "#46039f"
             ],
             [
              0.2222222222222222,
              "#7201a8"
             ],
             [
              0.3333333333333333,
              "#9c179e"
             ],
             [
              0.4444444444444444,
              "#bd3786"
             ],
             [
              0.5555555555555556,
              "#d8576b"
             ],
             [
              0.6666666666666666,
              "#ed7953"
             ],
             [
              0.7777777777777778,
              "#fb9f3a"
             ],
             [
              0.8888888888888888,
              "#fdca26"
             ],
             [
              1,
              "#f0f921"
             ]
            ],
            "type": "histogram2d"
           }
          ],
          "histogram2dcontour": [
           {
            "colorbar": {
             "outlinewidth": 0,
             "ticks": ""
            },
            "colorscale": [
             [
              0,
              "#0d0887"
             ],
             [
              0.1111111111111111,
              "#46039f"
             ],
             [
              0.2222222222222222,
              "#7201a8"
             ],
             [
              0.3333333333333333,
              "#9c179e"
             ],
             [
              0.4444444444444444,
              "#bd3786"
             ],
             [
              0.5555555555555556,
              "#d8576b"
             ],
             [
              0.6666666666666666,
              "#ed7953"
             ],
             [
              0.7777777777777778,
              "#fb9f3a"
             ],
             [
              0.8888888888888888,
              "#fdca26"
             ],
             [
              1,
              "#f0f921"
             ]
            ],
            "type": "histogram2dcontour"
           }
          ],
          "mesh3d": [
           {
            "colorbar": {
             "outlinewidth": 0,
             "ticks": ""
            },
            "type": "mesh3d"
           }
          ],
          "parcoords": [
           {
            "line": {
             "colorbar": {
              "outlinewidth": 0,
              "ticks": ""
             }
            },
            "type": "parcoords"
           }
          ],
          "pie": [
           {
            "automargin": true,
            "type": "pie"
           }
          ],
          "scatter": [
           {
            "fillpattern": {
             "fillmode": "overlay",
             "size": 10,
             "solidity": 0.2
            },
            "type": "scatter"
           }
          ],
          "scatter3d": [
           {
            "line": {
             "colorbar": {
              "outlinewidth": 0,
              "ticks": ""
             }
            },
            "marker": {
             "colorbar": {
              "outlinewidth": 0,
              "ticks": ""
             }
            },
            "type": "scatter3d"
           }
          ],
          "scattercarpet": [
           {
            "marker": {
             "colorbar": {
              "outlinewidth": 0,
              "ticks": ""
             }
            },
            "type": "scattercarpet"
           }
          ],
          "scattergeo": [
           {
            "marker": {
             "colorbar": {
              "outlinewidth": 0,
              "ticks": ""
             }
            },
            "type": "scattergeo"
           }
          ],
          "scattergl": [
           {
            "marker": {
             "colorbar": {
              "outlinewidth": 0,
              "ticks": ""
             }
            },
            "type": "scattergl"
           }
          ],
          "scattermap": [
           {
            "marker": {
             "colorbar": {
              "outlinewidth": 0,
              "ticks": ""
             }
            },
            "type": "scattermap"
           }
          ],
          "scattermapbox": [
           {
            "marker": {
             "colorbar": {
              "outlinewidth": 0,
              "ticks": ""
             }
            },
            "type": "scattermapbox"
           }
          ],
          "scatterpolar": [
           {
            "marker": {
             "colorbar": {
              "outlinewidth": 0,
              "ticks": ""
             }
            },
            "type": "scatterpolar"
           }
          ],
          "scatterpolargl": [
           {
            "marker": {
             "colorbar": {
              "outlinewidth": 0,
              "ticks": ""
             }
            },
            "type": "scatterpolargl"
           }
          ],
          "scatterternary": [
           {
            "marker": {
             "colorbar": {
              "outlinewidth": 0,
              "ticks": ""
             }
            },
            "type": "scatterternary"
           }
          ],
          "surface": [
           {
            "colorbar": {
             "outlinewidth": 0,
             "ticks": ""
            },
            "colorscale": [
             [
              0,
              "#0d0887"
             ],
             [
              0.1111111111111111,
              "#46039f"
             ],
             [
              0.2222222222222222,
              "#7201a8"
             ],
             [
              0.3333333333333333,
              "#9c179e"
             ],
             [
              0.4444444444444444,
              "#bd3786"
             ],
             [
              0.5555555555555556,
              "#d8576b"
             ],
             [
              0.6666666666666666,
              "#ed7953"
             ],
             [
              0.7777777777777778,
              "#fb9f3a"
             ],
             [
              0.8888888888888888,
              "#fdca26"
             ],
             [
              1,
              "#f0f921"
             ]
            ],
            "type": "surface"
           }
          ],
          "table": [
           {
            "cells": {
             "fill": {
              "color": "#EBF0F8"
             },
             "line": {
              "color": "white"
             }
            },
            "header": {
             "fill": {
              "color": "#C8D4E3"
             },
             "line": {
              "color": "white"
             }
            },
            "type": "table"
           }
          ]
         },
         "layout": {
          "annotationdefaults": {
           "arrowcolor": "#2a3f5f",
           "arrowhead": 0,
           "arrowwidth": 1
          },
          "autotypenumbers": "strict",
          "coloraxis": {
           "colorbar": {
            "outlinewidth": 0,
            "ticks": ""
           }
          },
          "colorscale": {
           "diverging": [
            [
             0,
             "#8e0152"
            ],
            [
             0.1,
             "#c51b7d"
            ],
            [
             0.2,
             "#de77ae"
            ],
            [
             0.3,
             "#f1b6da"
            ],
            [
             0.4,
             "#fde0ef"
            ],
            [
             0.5,
             "#f7f7f7"
            ],
            [
             0.6,
             "#e6f5d0"
            ],
            [
             0.7,
             "#b8e186"
            ],
            [
             0.8,
             "#7fbc41"
            ],
            [
             0.9,
             "#4d9221"
            ],
            [
             1,
             "#276419"
            ]
           ],
           "sequential": [
            [
             0,
             "#0d0887"
            ],
            [
             0.1111111111111111,
             "#46039f"
            ],
            [
             0.2222222222222222,
             "#7201a8"
            ],
            [
             0.3333333333333333,
             "#9c179e"
            ],
            [
             0.4444444444444444,
             "#bd3786"
            ],
            [
             0.5555555555555556,
             "#d8576b"
            ],
            [
             0.6666666666666666,
             "#ed7953"
            ],
            [
             0.7777777777777778,
             "#fb9f3a"
            ],
            [
             0.8888888888888888,
             "#fdca26"
            ],
            [
             1,
             "#f0f921"
            ]
           ],
           "sequentialminus": [
            [
             0,
             "#0d0887"
            ],
            [
             0.1111111111111111,
             "#46039f"
            ],
            [
             0.2222222222222222,
             "#7201a8"
            ],
            [
             0.3333333333333333,
             "#9c179e"
            ],
            [
             0.4444444444444444,
             "#bd3786"
            ],
            [
             0.5555555555555556,
             "#d8576b"
            ],
            [
             0.6666666666666666,
             "#ed7953"
            ],
            [
             0.7777777777777778,
             "#fb9f3a"
            ],
            [
             0.8888888888888888,
             "#fdca26"
            ],
            [
             1,
             "#f0f921"
            ]
           ]
          },
          "colorway": [
           "#636efa",
           "#EF553B",
           "#00cc96",
           "#ab63fa",
           "#FFA15A",
           "#19d3f3",
           "#FF6692",
           "#B6E880",
           "#FF97FF",
           "#FECB52"
          ],
          "font": {
           "color": "#2a3f5f"
          },
          "geo": {
           "bgcolor": "white",
           "lakecolor": "white",
           "landcolor": "#E5ECF6",
           "showlakes": true,
           "showland": true,
           "subunitcolor": "white"
          },
          "hoverlabel": {
           "align": "left"
          },
          "hovermode": "closest",
          "mapbox": {
           "style": "light"
          },
          "paper_bgcolor": "white",
          "plot_bgcolor": "#E5ECF6",
          "polar": {
           "angularaxis": {
            "gridcolor": "white",
            "linecolor": "white",
            "ticks": ""
           },
           "bgcolor": "#E5ECF6",
           "radialaxis": {
            "gridcolor": "white",
            "linecolor": "white",
            "ticks": ""
           }
          },
          "scene": {
           "xaxis": {
            "backgroundcolor": "#E5ECF6",
            "gridcolor": "white",
            "gridwidth": 2,
            "linecolor": "white",
            "showbackground": true,
            "ticks": "",
            "zerolinecolor": "white"
           },
           "yaxis": {
            "backgroundcolor": "#E5ECF6",
            "gridcolor": "white",
            "gridwidth": 2,
            "linecolor": "white",
            "showbackground": true,
            "ticks": "",
            "zerolinecolor": "white"
           },
           "zaxis": {
            "backgroundcolor": "#E5ECF6",
            "gridcolor": "white",
            "gridwidth": 2,
            "linecolor": "white",
            "showbackground": true,
            "ticks": "",
            "zerolinecolor": "white"
           }
          },
          "shapedefaults": {
           "line": {
            "color": "#2a3f5f"
           }
          },
          "ternary": {
           "aaxis": {
            "gridcolor": "white",
            "linecolor": "white",
            "ticks": ""
           },
           "baxis": {
            "gridcolor": "white",
            "linecolor": "white",
            "ticks": ""
           },
           "bgcolor": "#E5ECF6",
           "caxis": {
            "gridcolor": "white",
            "linecolor": "white",
            "ticks": ""
           }
          },
          "title": {
           "x": 0.05
          },
          "xaxis": {
           "automargin": true,
           "gridcolor": "white",
           "linecolor": "white",
           "ticks": "",
           "title": {
            "standoff": 15
           },
           "zerolinecolor": "white",
           "zerolinewidth": 2
          },
          "yaxis": {
           "automargin": true,
           "gridcolor": "white",
           "linecolor": "white",
           "ticks": "",
           "title": {
            "standoff": 15
           },
           "zerolinecolor": "white",
           "zerolinewidth": 2
          }
         }
        },
        "title": {
         "text": "LightGBM Hyperparameter Optimization History"
        },
        "xaxis": {
         "title": {
          "text": "Trial"
         }
        },
        "yaxis": {
         "title": {
          "text": "CRPS (Validation)"
         }
        }
       }
      }
     },
     "metadata": {},
     "output_type": "display_data"
    }
   ],
   "source": [
    "# Optimization history plot\n",
    "fig_history = plot_optimization_history(study)\n",
    "fig_history.update_layout(\n",
    "    title=\"LightGBM Hyperparameter Optimization History\",\n",
    "    xaxis_title=\"Trial\",\n",
    "    yaxis_title=\"CRPS (Validation)\"\n",
    ")\n",
    "\n",
    "# Try to save image (requires kaleido package)\n",
    "try:\n",
    "    fig_history.write_image(figures_dir / 'optuna_history.png', width=800, height=500)\n",
    "    print(f\"Saved: {figures_dir / 'optuna_history.png'}\")\n",
    "except Exception as e:\n",
    "    print(f\"⚠️  Could not save PNG image: {e}\")\n",
    "    print(\"   Install kaleido for image export: uv pip install kaleido\")\n",
    "\n",
    "fig_history.show()"
   ]
  },
  {
   "cell_type": "code",
   "execution_count": 18,
   "id": "cell-28",
   "metadata": {},
   "outputs": [
    {
     "name": "stdout",
     "output_type": "stream",
     "text": [
      "⚠️  Could not save PNG image: \n",
      "\n",
      "Kaleido requires Google Chrome to be installed.\n",
      "\n",
      "Either download and install Chrome yourself following Google's instructions for your operating system,\n",
      "or install it from your terminal by running:\n",
      "\n",
      "    $ plotly_get_chrome\n",
      "\n",
      "\n",
      "   Install kaleido for image export: uv pip install kaleido\n"
     ]
    },
    {
     "data": {
      "application/vnd.plotly.v1+json": {
       "config": {
        "plotlyServerURL": "https://plot.ly"
       },
       "data": [
        {
         "cliponaxis": false,
         "hovertemplate": [
          "max_depth (IntDistribution): 0.009232263357078855<extra></extra>",
          "learning_rate (FloatDistribution): 0.3058941746688626<extra></extra>",
          "n_estimators (IntDistribution): 0.6848735619740585<extra></extra>"
         ],
         "name": "Objective Value",
         "orientation": "h",
         "text": [
          "<0.01",
          "0.31",
          "0.68"
         ],
         "textposition": "outside",
         "type": "bar",
         "x": [
          0.009232263357078855,
          0.3058941746688626,
          0.6848735619740585
         ],
         "y": [
          "max_depth",
          "learning_rate",
          "n_estimators"
         ]
        }
       ],
       "layout": {
        "template": {
         "data": {
          "bar": [
           {
            "error_x": {
             "color": "#2a3f5f"
            },
            "error_y": {
             "color": "#2a3f5f"
            },
            "marker": {
             "line": {
              "color": "#E5ECF6",
              "width": 0.5
             },
             "pattern": {
              "fillmode": "overlay",
              "size": 10,
              "solidity": 0.2
             }
            },
            "type": "bar"
           }
          ],
          "barpolar": [
           {
            "marker": {
             "line": {
              "color": "#E5ECF6",
              "width": 0.5
             },
             "pattern": {
              "fillmode": "overlay",
              "size": 10,
              "solidity": 0.2
             }
            },
            "type": "barpolar"
           }
          ],
          "carpet": [
           {
            "aaxis": {
             "endlinecolor": "#2a3f5f",
             "gridcolor": "white",
             "linecolor": "white",
             "minorgridcolor": "white",
             "startlinecolor": "#2a3f5f"
            },
            "baxis": {
             "endlinecolor": "#2a3f5f",
             "gridcolor": "white",
             "linecolor": "white",
             "minorgridcolor": "white",
             "startlinecolor": "#2a3f5f"
            },
            "type": "carpet"
           }
          ],
          "choropleth": [
           {
            "colorbar": {
             "outlinewidth": 0,
             "ticks": ""
            },
            "type": "choropleth"
           }
          ],
          "contour": [
           {
            "colorbar": {
             "outlinewidth": 0,
             "ticks": ""
            },
            "colorscale": [
             [
              0,
              "#0d0887"
             ],
             [
              0.1111111111111111,
              "#46039f"
             ],
             [
              0.2222222222222222,
              "#7201a8"
             ],
             [
              0.3333333333333333,
              "#9c179e"
             ],
             [
              0.4444444444444444,
              "#bd3786"
             ],
             [
              0.5555555555555556,
              "#d8576b"
             ],
             [
              0.6666666666666666,
              "#ed7953"
             ],
             [
              0.7777777777777778,
              "#fb9f3a"
             ],
             [
              0.8888888888888888,
              "#fdca26"
             ],
             [
              1,
              "#f0f921"
             ]
            ],
            "type": "contour"
           }
          ],
          "contourcarpet": [
           {
            "colorbar": {
             "outlinewidth": 0,
             "ticks": ""
            },
            "type": "contourcarpet"
           }
          ],
          "heatmap": [
           {
            "colorbar": {
             "outlinewidth": 0,
             "ticks": ""
            },
            "colorscale": [
             [
              0,
              "#0d0887"
             ],
             [
              0.1111111111111111,
              "#46039f"
             ],
             [
              0.2222222222222222,
              "#7201a8"
             ],
             [
              0.3333333333333333,
              "#9c179e"
             ],
             [
              0.4444444444444444,
              "#bd3786"
             ],
             [
              0.5555555555555556,
              "#d8576b"
             ],
             [
              0.6666666666666666,
              "#ed7953"
             ],
             [
              0.7777777777777778,
              "#fb9f3a"
             ],
             [
              0.8888888888888888,
              "#fdca26"
             ],
             [
              1,
              "#f0f921"
             ]
            ],
            "type": "heatmap"
           }
          ],
          "histogram": [
           {
            "marker": {
             "pattern": {
              "fillmode": "overlay",
              "size": 10,
              "solidity": 0.2
             }
            },
            "type": "histogram"
           }
          ],
          "histogram2d": [
           {
            "colorbar": {
             "outlinewidth": 0,
             "ticks": ""
            },
            "colorscale": [
             [
              0,
              "#0d0887"
             ],
             [
              0.1111111111111111,
              "#46039f"
             ],
             [
              0.2222222222222222,
              "#7201a8"
             ],
             [
              0.3333333333333333,
              "#9c179e"
             ],
             [
              0.4444444444444444,
              "#bd3786"
             ],
             [
              0.5555555555555556,
              "#d8576b"
             ],
             [
              0.6666666666666666,
              "#ed7953"
             ],
             [
              0.7777777777777778,
              "#fb9f3a"
             ],
             [
              0.8888888888888888,
              "#fdca26"
             ],
             [
              1,
              "#f0f921"
             ]
            ],
            "type": "histogram2d"
           }
          ],
          "histogram2dcontour": [
           {
            "colorbar": {
             "outlinewidth": 0,
             "ticks": ""
            },
            "colorscale": [
             [
              0,
              "#0d0887"
             ],
             [
              0.1111111111111111,
              "#46039f"
             ],
             [
              0.2222222222222222,
              "#7201a8"
             ],
             [
              0.3333333333333333,
              "#9c179e"
             ],
             [
              0.4444444444444444,
              "#bd3786"
             ],
             [
              0.5555555555555556,
              "#d8576b"
             ],
             [
              0.6666666666666666,
              "#ed7953"
             ],
             [
              0.7777777777777778,
              "#fb9f3a"
             ],
             [
              0.8888888888888888,
              "#fdca26"
             ],
             [
              1,
              "#f0f921"
             ]
            ],
            "type": "histogram2dcontour"
           }
          ],
          "mesh3d": [
           {
            "colorbar": {
             "outlinewidth": 0,
             "ticks": ""
            },
            "type": "mesh3d"
           }
          ],
          "parcoords": [
           {
            "line": {
             "colorbar": {
              "outlinewidth": 0,
              "ticks": ""
             }
            },
            "type": "parcoords"
           }
          ],
          "pie": [
           {
            "automargin": true,
            "type": "pie"
           }
          ],
          "scatter": [
           {
            "fillpattern": {
             "fillmode": "overlay",
             "size": 10,
             "solidity": 0.2
            },
            "type": "scatter"
           }
          ],
          "scatter3d": [
           {
            "line": {
             "colorbar": {
              "outlinewidth": 0,
              "ticks": ""
             }
            },
            "marker": {
             "colorbar": {
              "outlinewidth": 0,
              "ticks": ""
             }
            },
            "type": "scatter3d"
           }
          ],
          "scattercarpet": [
           {
            "marker": {
             "colorbar": {
              "outlinewidth": 0,
              "ticks": ""
             }
            },
            "type": "scattercarpet"
           }
          ],
          "scattergeo": [
           {
            "marker": {
             "colorbar": {
              "outlinewidth": 0,
              "ticks": ""
             }
            },
            "type": "scattergeo"
           }
          ],
          "scattergl": [
           {
            "marker": {
             "colorbar": {
              "outlinewidth": 0,
              "ticks": ""
             }
            },
            "type": "scattergl"
           }
          ],
          "scattermap": [
           {
            "marker": {
             "colorbar": {
              "outlinewidth": 0,
              "ticks": ""
             }
            },
            "type": "scattermap"
           }
          ],
          "scattermapbox": [
           {
            "marker": {
             "colorbar": {
              "outlinewidth": 0,
              "ticks": ""
             }
            },
            "type": "scattermapbox"
           }
          ],
          "scatterpolar": [
           {
            "marker": {
             "colorbar": {
              "outlinewidth": 0,
              "ticks": ""
             }
            },
            "type": "scatterpolar"
           }
          ],
          "scatterpolargl": [
           {
            "marker": {
             "colorbar": {
              "outlinewidth": 0,
              "ticks": ""
             }
            },
            "type": "scatterpolargl"
           }
          ],
          "scatterternary": [
           {
            "marker": {
             "colorbar": {
              "outlinewidth": 0,
              "ticks": ""
             }
            },
            "type": "scatterternary"
           }
          ],
          "surface": [
           {
            "colorbar": {
             "outlinewidth": 0,
             "ticks": ""
            },
            "colorscale": [
             [
              0,
              "#0d0887"
             ],
             [
              0.1111111111111111,
              "#46039f"
             ],
             [
              0.2222222222222222,
              "#7201a8"
             ],
             [
              0.3333333333333333,
              "#9c179e"
             ],
             [
              0.4444444444444444,
              "#bd3786"
             ],
             [
              0.5555555555555556,
              "#d8576b"
             ],
             [
              0.6666666666666666,
              "#ed7953"
             ],
             [
              0.7777777777777778,
              "#fb9f3a"
             ],
             [
              0.8888888888888888,
              "#fdca26"
             ],
             [
              1,
              "#f0f921"
             ]
            ],
            "type": "surface"
           }
          ],
          "table": [
           {
            "cells": {
             "fill": {
              "color": "#EBF0F8"
             },
             "line": {
              "color": "white"
             }
            },
            "header": {
             "fill": {
              "color": "#C8D4E3"
             },
             "line": {
              "color": "white"
             }
            },
            "type": "table"
           }
          ]
         },
         "layout": {
          "annotationdefaults": {
           "arrowcolor": "#2a3f5f",
           "arrowhead": 0,
           "arrowwidth": 1
          },
          "autotypenumbers": "strict",
          "coloraxis": {
           "colorbar": {
            "outlinewidth": 0,
            "ticks": ""
           }
          },
          "colorscale": {
           "diverging": [
            [
             0,
             "#8e0152"
            ],
            [
             0.1,
             "#c51b7d"
            ],
            [
             0.2,
             "#de77ae"
            ],
            [
             0.3,
             "#f1b6da"
            ],
            [
             0.4,
             "#fde0ef"
            ],
            [
             0.5,
             "#f7f7f7"
            ],
            [
             0.6,
             "#e6f5d0"
            ],
            [
             0.7,
             "#b8e186"
            ],
            [
             0.8,
             "#7fbc41"
            ],
            [
             0.9,
             "#4d9221"
            ],
            [
             1,
             "#276419"
            ]
           ],
           "sequential": [
            [
             0,
             "#0d0887"
            ],
            [
             0.1111111111111111,
             "#46039f"
            ],
            [
             0.2222222222222222,
             "#7201a8"
            ],
            [
             0.3333333333333333,
             "#9c179e"
            ],
            [
             0.4444444444444444,
             "#bd3786"
            ],
            [
             0.5555555555555556,
             "#d8576b"
            ],
            [
             0.6666666666666666,
             "#ed7953"
            ],
            [
             0.7777777777777778,
             "#fb9f3a"
            ],
            [
             0.8888888888888888,
             "#fdca26"
            ],
            [
             1,
             "#f0f921"
            ]
           ],
           "sequentialminus": [
            [
             0,
             "#0d0887"
            ],
            [
             0.1111111111111111,
             "#46039f"
            ],
            [
             0.2222222222222222,
             "#7201a8"
            ],
            [
             0.3333333333333333,
             "#9c179e"
            ],
            [
             0.4444444444444444,
             "#bd3786"
            ],
            [
             0.5555555555555556,
             "#d8576b"
            ],
            [
             0.6666666666666666,
             "#ed7953"
            ],
            [
             0.7777777777777778,
             "#fb9f3a"
            ],
            [
             0.8888888888888888,
             "#fdca26"
            ],
            [
             1,
             "#f0f921"
            ]
           ]
          },
          "colorway": [
           "#636efa",
           "#EF553B",
           "#00cc96",
           "#ab63fa",
           "#FFA15A",
           "#19d3f3",
           "#FF6692",
           "#B6E880",
           "#FF97FF",
           "#FECB52"
          ],
          "font": {
           "color": "#2a3f5f"
          },
          "geo": {
           "bgcolor": "white",
           "lakecolor": "white",
           "landcolor": "#E5ECF6",
           "showlakes": true,
           "showland": true,
           "subunitcolor": "white"
          },
          "hoverlabel": {
           "align": "left"
          },
          "hovermode": "closest",
          "mapbox": {
           "style": "light"
          },
          "paper_bgcolor": "white",
          "plot_bgcolor": "#E5ECF6",
          "polar": {
           "angularaxis": {
            "gridcolor": "white",
            "linecolor": "white",
            "ticks": ""
           },
           "bgcolor": "#E5ECF6",
           "radialaxis": {
            "gridcolor": "white",
            "linecolor": "white",
            "ticks": ""
           }
          },
          "scene": {
           "xaxis": {
            "backgroundcolor": "#E5ECF6",
            "gridcolor": "white",
            "gridwidth": 2,
            "linecolor": "white",
            "showbackground": true,
            "ticks": "",
            "zerolinecolor": "white"
           },
           "yaxis": {
            "backgroundcolor": "#E5ECF6",
            "gridcolor": "white",
            "gridwidth": 2,
            "linecolor": "white",
            "showbackground": true,
            "ticks": "",
            "zerolinecolor": "white"
           },
           "zaxis": {
            "backgroundcolor": "#E5ECF6",
            "gridcolor": "white",
            "gridwidth": 2,
            "linecolor": "white",
            "showbackground": true,
            "ticks": "",
            "zerolinecolor": "white"
           }
          },
          "shapedefaults": {
           "line": {
            "color": "#2a3f5f"
           }
          },
          "ternary": {
           "aaxis": {
            "gridcolor": "white",
            "linecolor": "white",
            "ticks": ""
           },
           "baxis": {
            "gridcolor": "white",
            "linecolor": "white",
            "ticks": ""
           },
           "bgcolor": "#E5ECF6",
           "caxis": {
            "gridcolor": "white",
            "linecolor": "white",
            "ticks": ""
           }
          },
          "title": {
           "x": 0.05
          },
          "xaxis": {
           "automargin": true,
           "gridcolor": "white",
           "linecolor": "white",
           "ticks": "",
           "title": {
            "standoff": 15
           },
           "zerolinecolor": "white",
           "zerolinewidth": 2
          },
          "yaxis": {
           "automargin": true,
           "gridcolor": "white",
           "linecolor": "white",
           "ticks": "",
           "title": {
            "standoff": 15
           },
           "zerolinecolor": "white",
           "zerolinewidth": 2
          }
         }
        },
        "title": {
         "text": "Hyperparameter Importance (CRPS Minimization)"
        },
        "xaxis": {
         "title": {
          "text": "Hyperparameter Importance"
         }
        },
        "yaxis": {
         "title": {
          "text": "Hyperparameter"
         }
        }
       }
      }
     },
     "metadata": {},
     "output_type": "display_data"
    }
   ],
   "source": [
    "# Parameter importance plot\n",
    "fig_importance = plot_param_importances(study)\n",
    "fig_importance.update_layout(\n",
    "    title=\"Hyperparameter Importance (CRPS Minimization)\"\n",
    ")\n",
    "\n",
    "# Try to save image (requires kaleido package)\n",
    "try:\n",
    "    fig_importance.write_image(figures_dir / 'optuna_importance.png', width=800, height=500)\n",
    "    print(f\"Saved: {figures_dir / 'optuna_importance.png'}\")\n",
    "except Exception as e:\n",
    "    print(f\"⚠️  Could not save PNG image: {e}\")\n",
    "    print(\"   Install kaleido for image export: uv pip install kaleido\")\n",
    "\n",
    "fig_importance.show()"
   ]
  },
  {
   "cell_type": "markdown",
   "id": "cell-29",
   "metadata": {},
   "source": [
    "## 7. Rolling Forecasts with Optimized Hyperparameters"
   ]
  },
  {
   "cell_type": "code",
   "execution_count": 19,
   "id": "cell-30",
   "metadata": {},
   "outputs": [],
   "source": [
    "def forecast_lightgbm_optimized(train_series, horizon, best_params, lags=[1, 2, 3, 7, 14], fourier_order=2, period=365):\n",
    "    \"\"\"\n",
    "    Forecast with optimized LightGBM hyperparameters.\n",
    "\n",
    "    Parameters\n",
    "    ----------\n",
    "    train_series : pd.Series\n",
    "        Training data (datetime-indexed)\n",
    "    horizon : int\n",
    "        Number of steps ahead to forecast\n",
    "    best_params : dict\n",
    "        Optimized hyperparameters from Optuna\n",
    "    lags : list of int\n",
    "        Lag features to create\n",
    "    fourier_order : int\n",
    "        Number of Fourier term pairs\n",
    "    period : int\n",
    "        Seasonal period for Fourier terms\n",
    "\n",
    "    Returns\n",
    "    -------\n",
    "    dict : {'q0.1': float, 'q0.5': float, 'q0.9': float}\n",
    "        Forecast quantiles\n",
    "    \"\"\"\n",
    "    quantiles = [0.1, 0.5, 0.9]\n",
    "    predictions = {}\n",
    "\n",
    "    for q in quantiles:\n",
    "        pred = lightgbm_forecast_single_quantile(\n",
    "            train_series=train_series,\n",
    "            horizon=horizon,\n",
    "            quantile=q,\n",
    "            params=best_params,\n",
    "            lags=lags,\n",
    "            fourier_order=fourier_order,\n",
    "            period=period\n",
    "        )\n",
    "        predictions[f'q{q}'] = pred\n",
    "\n",
    "    # Enforce quantile monotonicity\n",
    "    predictions['q0.1'] = min(predictions['q0.1'], predictions['q0.5'])\n",
    "    predictions['q0.9'] = max(predictions['q0.5'], predictions['q0.9'])\n",
    "\n",
    "    return predictions"
   ]
  },
  {
   "cell_type": "code",
   "execution_count": 20,
   "id": "cell-31",
   "metadata": {},
   "outputs": [],
   "source": [
    "def run_rolling_forecasts_optimized(ts, origins, horizons, min_train, best_params):\n",
    "    \"\"\"\n",
    "    Run rolling forecasts with optimized LightGBM hyperparameters.\n",
    "\n",
    "    Parameters\n",
    "    ----------\n",
    "    ts : pd.Series\n",
    "        Full time series\n",
    "    origins : pd.DatetimeIndex\n",
    "        Forecast origin dates\n",
    "    horizons : list of int\n",
    "        Forecast horizons\n",
    "    min_train : int\n",
    "        Minimum training window size\n",
    "    best_params : dict\n",
    "        Optimized hyperparameters\n",
    "\n",
    "    Returns\n",
    "    -------\n",
    "    pd.DataFrame\n",
    "        Forecast results\n",
    "    \"\"\"\n",
    "    results = []\n",
    "\n",
    "    # Progress bar\n",
    "    total_iter = len(origins) * len(horizons)\n",
    "    pbar = tqdm(total=total_iter, desc=\"Rolling forecasts (optimized)\")\n",
    "\n",
    "    for origin in origins:\n",
    "        # Get training data (all data before origin)\n",
    "        train = ts[ts.index < origin]\n",
    "\n",
    "        # Skip if insufficient training data\n",
    "        if len(train) < min_train:\n",
    "            continue\n",
    "\n",
    "        for horizon in horizons:\n",
    "            # Target forecast date\n",
    "            target_date = origin + pd.Timedelta(days=horizon - 1)\n",
    "\n",
    "            # Skip if target date is beyond available data\n",
    "            if target_date not in ts.index:\n",
    "                pbar.update(1)\n",
    "                continue\n",
    "\n",
    "            # Get actual value\n",
    "            actual = ts.loc[target_date]\n",
    "\n",
    "            # Generate forecast\n",
    "            try:\n",
    "                pred = forecast_lightgbm_optimized(train, horizon, best_params)\n",
    "                results.append({\n",
    "                    'date': target_date,\n",
    "                    'origin': origin,\n",
    "                    'horizon': horizon,\n",
    "                    'model': 'LightGBM_Optimized',\n",
    "                    'q0.1': pred['q0.1'],\n",
    "                    'q0.5': pred['q0.5'],\n",
    "                    'q0.9': pred['q0.9'],\n",
    "                    'actual': actual\n",
    "                })\n",
    "            except Exception as e:\n",
    "                # Skip failed forecasts\n",
    "                pass\n",
    "\n",
    "            pbar.update(1)\n",
    "\n",
    "    pbar.close()\n",
    "\n",
    "    return pd.DataFrame(results)"
   ]
  },
  {
   "cell_type": "markdown",
   "id": "cell-32",
   "metadata": {},
   "source": [
    "### Execute Rolling Forecasts\n",
    "\n",
    "**Warning:** This cell will take several minutes to complete."
   ]
  },
  {
   "cell_type": "code",
   "execution_count": 21,
   "id": "cell-33",
   "metadata": {},
   "outputs": [
    {
     "name": "stdout",
     "output_type": "stream",
     "text": [
      "Starting rolling forecast generation with optimized hyperparameters...\n",
      "Total iterations: 48\n",
      "\n",
      "This will take approximately 5-10 minutes...\n",
      "\n"
     ]
    },
    {
     "name": "stderr",
     "output_type": "stream",
     "text": [
      "Rolling forecasts (optimized): 100%|██████████| 48/48 [00:19<00:00,  2.50it/s]"
     ]
    },
    {
     "name": "stdout",
     "output_type": "stream",
     "text": [
      "\n",
      "✅ Rolling forecasts complete!\n",
      "Total forecasts: 47\n"
     ]
    },
    {
     "name": "stderr",
     "output_type": "stream",
     "text": [
      "\n"
     ]
    }
   ],
   "source": [
    "print(\"Starting rolling forecast generation with optimized hyperparameters...\")\n",
    "print(f\"Total iterations: {len(ORIGINS) * len(HORIZONS)}\")\n",
    "print(\"\\nThis will take approximately 5-10 minutes...\\n\")\n",
    "\n",
    "forecast_df = run_rolling_forecasts_optimized(\n",
    "    ts=ts,\n",
    "    origins=ORIGINS,\n",
    "    horizons=HORIZONS,\n",
    "    min_train=MIN_TRAIN,\n",
    "    best_params=study.best_params\n",
    ")\n",
    "\n",
    "print(\"\\n✅ Rolling forecasts complete!\")\n",
    "print(f\"Total forecasts: {len(forecast_df)}\")"
   ]
  },
  {
   "cell_type": "markdown",
   "id": "cell-34",
   "metadata": {},
   "source": [
    "## 8. Save Forecast Results"
   ]
  },
  {
   "cell_type": "code",
   "execution_count": 22,
   "id": "cell-35",
   "metadata": {},
   "outputs": [
    {
     "name": "stdout",
     "output_type": "stream",
     "text": [
      "Saved forecasts: 47 rows → /home/mikhailarutyunov/projects/time-series-flu/results/forecasts/lightgbm_optuna.parquet\n"
     ]
    }
   ],
   "source": [
    "# Save forecasts as parquet\n",
    "output_path = results_dir / 'lightgbm_optuna.parquet'\n",
    "forecast_df.to_parquet(output_path, index=False)\n",
    "print(f\"Saved forecasts: {len(forecast_df)} rows → {output_path}\")"
   ]
  },
  {
   "cell_type": "markdown",
   "id": "cell-36",
   "metadata": {},
   "source": [
    "## 9. Summary Statistics"
   ]
  },
  {
   "cell_type": "code",
   "execution_count": 23,
   "id": "cell-37",
   "metadata": {},
   "outputs": [
    {
     "name": "stdout",
     "output_type": "stream",
     "text": [
      "\n",
      "============================================================\n",
      "FORECAST COUNT SUMMARY\n",
      "============================================================\n",
      " horizon  count\n",
      "       7     24\n",
      "      28     23\n",
      "\n",
      "Total forecasts: 47\n"
     ]
    }
   ],
   "source": [
    "# Display summary of forecast counts by horizon\n",
    "summary = forecast_df.groupby('horizon').size().reset_index(name='count')\n",
    "print(\"\\n\" + \"=\" * 60)\n",
    "print(\"FORECAST COUNT SUMMARY\")\n",
    "print(\"=\" * 60)\n",
    "print(summary.to_string(index=False))\n",
    "print(f\"\\nTotal forecasts: {len(forecast_df)}\")"
   ]
  },
  {
   "cell_type": "markdown",
   "id": "cell-38",
   "metadata": {},
   "source": [
    "## 10. Quality Checks"
   ]
  },
  {
   "cell_type": "code",
   "execution_count": 24,
   "id": "cell-39",
   "metadata": {},
   "outputs": [
    {
     "name": "stdout",
     "output_type": "stream",
     "text": [
      "NaN values in forecasts: 0\n",
      "✅ No NaN values\n"
     ]
    }
   ],
   "source": [
    "# Check for NaN values\n",
    "nan_count = forecast_df[['q0.1', 'q0.5', 'q0.9']].isna().sum().sum()\n",
    "print(f\"NaN values in forecasts: {nan_count}\")\n",
    "assert nan_count == 0, \"ERROR: Found NaN values in forecasts!\"\n",
    "print(\"✅ No NaN values\")"
   ]
  },
  {
   "cell_type": "code",
   "execution_count": 25,
   "id": "cell-40",
   "metadata": {},
   "outputs": [
    {
     "name": "stdout",
     "output_type": "stream",
     "text": [
      "Quantile monotonicity violations: 0\n",
      "✅ Quantile monotonicity preserved (q0.1 ≤ q0.5 ≤ q0.9)\n"
     ]
    }
   ],
   "source": [
    "# Check quantile monotonicity\n",
    "violations = (\n",
    "    (forecast_df['q0.1'] > forecast_df['q0.5']) |\n",
    "    (forecast_df['q0.5'] > forecast_df['q0.9'])\n",
    ").sum()\n",
    "print(f\"Quantile monotonicity violations: {violations}\")\n",
    "assert violations == 0, \"ERROR: Quantile monotonicity violated!\"\n",
    "print(\"✅ Quantile monotonicity preserved (q0.1 ≤ q0.5 ≤ q0.9)\")"
   ]
  },
  {
   "cell_type": "code",
   "execution_count": 26,
   "id": "cell-41",
   "metadata": {},
   "outputs": [
    {
     "name": "stdout",
     "output_type": "stream",
     "text": [
      "Expected forecasts: ~47\n",
      "Actual forecasts: 47\n",
      "✅ Forecast count matches expected\n"
     ]
    }
   ],
   "source": [
    "# Check forecast count\n",
    "expected_forecasts = 47  # Same as baseline (24 origins * 2 horizons - 1 missing)\n",
    "actual_forecasts = len(forecast_df)\n",
    "print(f\"Expected forecasts: ~{expected_forecasts}\")\n",
    "print(f\"Actual forecasts: {actual_forecasts}\")\n",
    "assert actual_forecasts >= expected_forecasts - 2, \"ERROR: Too few forecasts generated!\"\n",
    "print(\"✅ Forecast count matches expected\")"
   ]
  },
  {
   "cell_type": "code",
   "execution_count": 27,
   "id": "cell-42",
   "metadata": {},
   "outputs": [
    {
     "name": "stdout",
     "output_type": "stream",
     "text": [
      "\n",
      "============================================================\n",
      "HYPERPARAMETER COMPARISON\n",
      "============================================================\n",
      "Parameter            Baseline        Optimized       Change\n",
      "------------------------------------------------------------\n",
      "n_estimators         300             439             ✓\n",
      "max_depth            5               8               ✓\n",
      "learning_rate        0.05            0.0326376815988589 ✓\n",
      "============================================================\n"
     ]
    }
   ],
   "source": [
    "# Compare hyperparameters to baseline\n",
    "baseline_params = {'n_estimators': 300, 'max_depth': 5, 'learning_rate': 0.05}\n",
    "optimized_params = study.best_params\n",
    "\n",
    "print(\"\\n\" + \"=\" * 60)\n",
    "print(\"HYPERPARAMETER COMPARISON\")\n",
    "print(\"=\" * 60)\n",
    "print(f\"{'Parameter':<20} {'Baseline':<15} {'Optimized':<15} {'Change'}\")\n",
    "print(\"-\" * 60)\n",
    "for param in baseline_params:\n",
    "    baseline_val = baseline_params[param]\n",
    "    optimized_val = optimized_params[param]\n",
    "    change = \"✓\" if baseline_val != optimized_val else \"(same)\"\n",
    "    print(f\"{param:<20} {baseline_val:<15} {optimized_val:<15} {change}\")\n",
    "print(\"=\" * 60)"
   ]
  },
  {
   "cell_type": "markdown",
   "id": "cell-43",
   "metadata": {},
   "source": [
    "## Checkpoint Summary\n",
    "\n",
    "**Expected outcomes:**\n",
    "- `results/forecasts/lightgbm_optuna.parquet` with 47-48 forecasts\n",
    "- `results/optimization/optuna_study.pkl` (for resuming optimization)\n",
    "- `results/optimization/lightgbm_best_params.json` (best hyperparameters)\n",
    "- `results/optimization/optuna_history.csv` (trial history)\n",
    "- `results/figures/optuna_history.png` (optimization convergence plot)\n",
    "- `results/figures/optuna_importance.png` (parameter importance plot)\n",
    "- Columns: date, origin, horizon, model, q0.1, q0.5, q0.9, actual\n",
    "- Total runtime: 20-30 minutes\n",
    "- No NaN values, quantile monotonicity preserved\n",
    "\n",
    "**Success criterion:** MASE < 0.64 (evaluated in nb/03_evaluation.ipynb)\n",
    "\n",
    "**Next:** Proceed to `03_evaluation.ipynb` to compare optimized LightGBM against foundation models."
   ]
  }
 ],
 "metadata": {
  "kernelspec": {
   "display_name": "time-series-flu",
   "language": "python",
   "name": "python3"
  },
  "language_info": {
   "codemirror_mode": {
    "name": "ipython",
    "version": 3
   },
   "file_extension": ".py",
   "mimetype": "text/x-python",
   "name": "python",
   "nbconvert_exporter": "python",
   "pygments_lexer": "ipython3",
   "version": "3.12.3"
  }
 },
 "nbformat": 4,
 "nbformat_minor": 5
}
