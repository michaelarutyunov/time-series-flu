{
 "cells": [
  {
   "cell_type": "markdown",
   "metadata": {},
   "source": [
    "# Notebook 00 - Environment Setup\n",
    "\n",
    "**Purpose:** Verify Python version, install dependencies, check CPU-only execution.\n",
    "\n",
    "**Checkpoint:** No CUDA warnings on import."
   ]
  },
  {
   "cell_type": "markdown",
   "metadata": {},
   "source": [
    "## Cell 1: Verify Python 3.12"
   ]
  },
  {
   "cell_type": "code",
   "execution_count": 1,
   "metadata": {
    "execution": {
     "iopub.execute_input": "2025-10-15T12:20:05.662906Z",
     "iopub.status.busy": "2025-10-15T12:20:05.662651Z",
     "iopub.status.idle": "2025-10-15T12:20:05.669351Z",
     "shell.execute_reply": "2025-10-15T12:20:05.668614Z"
    }
   },
   "outputs": [
    {
     "name": "stdout",
     "output_type": "stream",
     "text": [
      "Python version: 3.12.3 (main, Aug 14 2025, 17:47:21) [GCC 13.3.0]\n",
      "Python executable: /home/mikhailarutyunov/projects/time-series-flu/.venv/bin/python3\n",
      "\n",
      "✅ Python 3.12 verified\n"
     ]
    }
   ],
   "source": [
    "import sys\n",
    "\n",
    "print(f\"Python version: {sys.version}\")\n",
    "print(f\"Python executable: {sys.executable}\")\n",
    "\n",
    "# Verify Python 3.12\n",
    "assert sys.version_info[:2] == (3, 12), f\"Python 3.12 required, got {sys.version_info[:2]}\"\n",
    "print(\"\\n✅ Python 3.12 verified\")"
   ]
  },
  {
   "cell_type": "markdown",
   "metadata": {},
   "source": [
    "## Cell 2: Install and Import Packages"
   ]
  },
  {
   "cell_type": "code",
   "execution_count": 2,
   "metadata": {
    "execution": {
     "iopub.execute_input": "2025-10-15T12:20:05.695671Z",
     "iopub.status.busy": "2025-10-15T12:20:05.695471Z",
     "iopub.status.idle": "2025-10-15T12:20:05.698607Z",
     "shell.execute_reply": "2025-10-15T12:20:05.697872Z"
    }
   },
   "outputs": [
    {
     "name": "stdout",
     "output_type": "stream",
     "text": [
      "📦 Packages should be pre-installed via uv\n"
     ]
    }
   ],
   "source": [
    "# Note: Packages already installed via uv\n",
    "# If needed, run: uv pip install ruptures statsmodels lightgbm scikit-learn pandas numpy matplotlib seaborn tabpfn-client python-dotenv\n",
    "print(\"📦 Packages should be pre-installed via uv\")"
   ]
  },
  {
   "cell_type": "code",
   "execution_count": 3,
   "metadata": {
    "execution": {
     "iopub.execute_input": "2025-10-15T12:20:05.700000Z",
     "iopub.status.busy": "2025-10-15T12:20:05.699867Z",
     "iopub.status.idle": "2025-10-15T12:20:07.826915Z",
     "shell.execute_reply": "2025-10-15T12:20:07.826023Z"
    }
   },
   "outputs": [
    {
     "name": "stdout",
     "output_type": "stream",
     "text": [
      "✅ All packages imported successfully\n",
      "\n",
      "Package versions:\n",
      "  pandas: 2.3.1\n",
      "  numpy: 2.3.3\n",
      "  statsmodels: 0.14.5\n",
      "  ruptures: v1.1.10\n"
     ]
    }
   ],
   "source": [
    "# Import core packages\n",
    "import pandas as pd\n",
    "import numpy as np\n",
    "import matplotlib.pyplot as plt\n",
    "import seaborn as sns\n",
    "from pathlib import Path\n",
    "import warnings\n",
    "\n",
    "# Statistical packages\n",
    "import ruptures\n",
    "import statsmodels.api as sm\n",
    "from statsmodels.tsa.deterministic import DeterministicProcess, Fourier\n",
    "from lightgbm import LGBMRegressor\n",
    "\n",
    "# TabPFN\n",
    "import tabpfn_client\n",
    "from dotenv import load_dotenv\n",
    "import os\n",
    "\n",
    "print(\"✅ All packages imported successfully\")\n",
    "print(f\"\\nPackage versions:\")\n",
    "print(f\"  pandas: {pd.__version__}\")\n",
    "print(f\"  numpy: {np.__version__}\")\n",
    "print(f\"  statsmodels: {sm.__version__}\")\n",
    "print(f\"  ruptures: {ruptures.__version__}\")"
   ]
  },
  {
   "cell_type": "code",
   "execution_count": 4,
   "metadata": {
    "execution": {
     "iopub.execute_input": "2025-10-15T12:20:07.828369Z",
     "iopub.status.busy": "2025-10-15T12:20:07.828155Z",
     "iopub.status.idle": "2025-10-15T12:20:07.830817Z",
     "shell.execute_reply": "2025-10-15T12:20:07.830158Z"
    }
   },
   "outputs": [
    {
     "name": "stdout",
     "output_type": "stream",
     "text": [
      "✅ Random seeds pinned (np.random.seed=42)\n"
     ]
    }
   ],
   "source": [
    "# Pin random seeds\n",
    "np.random.seed(42)\n",
    "\n",
    "# Suppress warnings for cleaner output\n",
    "warnings.filterwarnings('ignore')\n",
    "\n",
    "print(\"✅ Random seeds pinned (np.random.seed=42)\")"
   ]
  },
  {
   "cell_type": "code",
   "execution_count": 5,
   "metadata": {
    "execution": {
     "iopub.execute_input": "2025-10-15T12:20:07.832034Z",
     "iopub.status.busy": "2025-10-15T12:20:07.831903Z",
     "iopub.status.idle": "2025-10-15T12:20:07.835439Z",
     "shell.execute_reply": "2025-10-15T12:20:07.834673Z"
    }
   },
   "outputs": [
    {
     "name": "stdout",
     "output_type": "stream",
     "text": [
      "✅ PyTorch not installed yet (will install with chronos in nb/03)\n"
     ]
    }
   ],
   "source": [
    "# Verify CPU-only execution (no CUDA)\n",
    "# Check if torch is installed (will be for chronos later)\n",
    "try:\n",
    "    import torch\n",
    "    if torch.cuda.is_available():\n",
    "        print(\"⚠️  WARNING: CUDA is available but should NOT be used\")\n",
    "        print(f\"   CUDA devices: {torch.cuda.device_count()}\")\n",
    "        print(\"   Force CPU usage in model configs\")\n",
    "    else:\n",
    "        print(\"✅ CPU-only execution verified (no CUDA available)\")\n",
    "except ImportError:\n",
    "    print(\"✅ PyTorch not installed yet (will install with chronos in nb/03)\")"
   ]
  },
  {
   "cell_type": "markdown",
   "metadata": {},
   "source": [
    "## Cell 3: Create Folder Tree and Verify TabPFN API"
   ]
  },
  {
   "cell_type": "code",
   "execution_count": 6,
   "metadata": {
    "execution": {
     "iopub.execute_input": "2025-10-15T12:20:07.836792Z",
     "iopub.status.busy": "2025-10-15T12:20:07.836664Z",
     "iopub.status.idle": "2025-10-15T12:20:07.840797Z",
     "shell.execute_reply": "2025-10-15T12:20:07.840154Z"
    }
   },
   "outputs": [
    {
     "name": "stdout",
     "output_type": "stream",
     "text": [
      "✅ Directory structure verified:\n",
      "   Data: /home/mikhailarutyunov/projects/time-series-flu/data\n",
      "   Forecasts: /home/mikhailarutyunov/projects/time-series-flu/results/forecasts\n",
      "   Figures: /home/mikhailarutyunov/projects/time-series-flu/results/figures\n",
      "\n",
      "✅ Data file found: NHSdata_dailypercentace_flupositive.csv\n"
     ]
    }
   ],
   "source": [
    "# Project root\n",
    "project_root = Path.cwd().parent\n",
    "\n",
    "# Create directories\n",
    "data_dir = project_root / \"data\"\n",
    "results_dir = project_root / \"results\"\n",
    "forecasts_dir = results_dir / \"forecasts\"\n",
    "figures_dir = results_dir / \"figures\"\n",
    "\n",
    "# Ensure all directories exist\n",
    "data_dir.mkdir(parents=True, exist_ok=True)\n",
    "forecasts_dir.mkdir(parents=True, exist_ok=True)\n",
    "figures_dir.mkdir(parents=True, exist_ok=True)\n",
    "\n",
    "print(\"✅ Directory structure verified:\")\n",
    "print(f\"   Data: {data_dir}\")\n",
    "print(f\"   Forecasts: {forecasts_dir}\")\n",
    "print(f\"   Figures: {figures_dir}\")\n",
    "\n",
    "# Verify data file exists\n",
    "data_file = data_dir / \"NHSdata_dailypercentace_flupositive.csv\"\n",
    "if data_file.exists():\n",
    "    print(f\"\\n✅ Data file found: {data_file.name}\")\n",
    "else:\n",
    "    print(f\"\\n⚠️  WARNING: Data file not found: {data_file}\")"
   ]
  },
  {
   "cell_type": "code",
   "execution_count": 7,
   "metadata": {
    "execution": {
     "iopub.execute_input": "2025-10-15T12:20:07.841949Z",
     "iopub.status.busy": "2025-10-15T12:20:07.841841Z",
     "iopub.status.idle": "2025-10-15T12:20:07.846047Z",
     "shell.execute_reply": "2025-10-15T12:20:07.845296Z"
    }
   },
   "outputs": [
    {
     "name": "stdout",
     "output_type": "stream",
     "text": [
      "✅ TabPFN client initialized (API key loaded from .env)\n"
     ]
    }
   ],
   "source": [
    "# Load and verify TabPFN API key\n",
    "env_file = project_root / \".env\"\n",
    "\n",
    "if env_file.exists():\n",
    "    load_dotenv(env_file)\n",
    "    api_key = os.getenv(\"PRIORLABS_API_KEY\")\n",
    "    \n",
    "    if api_key:\n",
    "        # Set TabPFN access token (following examples/06 pattern)\n",
    "        tabpfn_client.set_access_token(api_key)\n",
    "        print(\"✅ TabPFN client initialized (API key loaded from .env)\")\n",
    "    else:\n",
    "        print(\"⚠️  WARNING: PRIORLABS_API_KEY not found in .env file\")\n",
    "else:\n",
    "    print(\"⚠️  WARNING: .env file not found\")\n",
    "    print(\"   TabPFN will not be available in rolling forecast loop\")"
   ]
  },
  {
   "cell_type": "markdown",
   "metadata": {},
   "source": [
    "## Summary\n",
    "\n",
    "Environment setup complete. All checkpoints passed:\n",
    "- ✅ Python 3.12 verified\n",
    "- ✅ Core packages installed\n",
    "- ✅ Random seeds pinned\n",
    "- ✅ CPU-only execution (no CUDA warnings)\n",
    "- ✅ Directory structure created\n",
    "- ✅ Data file verified\n",
    "- ✅ TabPFN API key loaded\n",
    "\n",
    "Ready to proceed to Notebook 01 (Data Preparation)."
   ]
  }
 ],
 "metadata": {
  "kernelspec": {
   "display_name": "Python 3",
   "language": "python",
   "name": "python3"
  },
  "language_info": {
   "codemirror_mode": {
    "name": "ipython",
    "version": 3
   },
   "file_extension": ".py",
   "mimetype": "text/x-python",
   "name": "python",
   "nbconvert_exporter": "python",
   "pygments_lexer": "ipython3",
   "version": "3.12.3"
  }
 },
 "nbformat": 4,
 "nbformat_minor": 4
}
