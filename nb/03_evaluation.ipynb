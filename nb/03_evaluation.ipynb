{
 "cells": [
  {
   "cell_type": "markdown",
   "metadata": {},
   "source": [
    "# 03 - Model Evaluation\n",
    "\n",
    "This notebook:\n",
    "- Loads forecast results from all models\n",
    "- Calculates point forecast metrics (MAPE, sMAPE, MASE)\n",
    "- Calculates probabilistic metrics (CRPS, coverage)\n",
    "- Runs Diebold-Mariano tests for statistical significance\n",
    "- Generates summary tables and visualizations"
   ]
  },
  {
   "cell_type": "code",
   "execution_count": 1,
   "metadata": {
    "execution": {
     "iopub.execute_input": "2025-10-17T10:02:41.636450Z",
     "iopub.status.busy": "2025-10-17T10:02:41.636322Z",
     "iopub.status.idle": "2025-10-17T10:02:42.599954Z",
     "shell.execute_reply": "2025-10-17T10:02:42.598945Z"
    }
   },
   "outputs": [],
   "source": [
    "import pandas as pd\n",
    "import numpy as np\n",
    "import matplotlib.pyplot as plt\n",
    "import seaborn as sns\n",
    "from pathlib import Path\n",
    "from scipy import stats\n",
    "\n",
    "np.random.seed(42)"
   ]
  },
  {
   "cell_type": "markdown",
   "metadata": {},
   "source": [
    "## Load Data"
   ]
  },
  {
   "cell_type": "code",
   "execution_count": 2,
   "metadata": {
    "execution": {
     "iopub.execute_input": "2025-10-17T10:02:42.601476Z",
     "iopub.status.busy": "2025-10-17T10:02:42.601278Z",
     "iopub.status.idle": "2025-10-17T10:02:42.603923Z",
     "shell.execute_reply": "2025-10-17T10:02:42.603343Z"
    }
   },
   "outputs": [],
   "source": [
    "project_root = Path.cwd().parent\n",
    "data_dir = project_root / 'data'\n",
    "results_dir = project_root / 'results'\n",
    "forecasts_dir = results_dir / 'forecasts'\n",
    "figures_dir = results_dir / 'figures'\n",
    "\n",
    "figures_dir.mkdir(parents=True, exist_ok=True)"
   ]
  },
  {
   "cell_type": "code",
   "execution_count": 3,
   "metadata": {
    "execution": {
     "iopub.execute_input": "2025-10-17T10:02:42.604967Z",
     "iopub.status.busy": "2025-10-17T10:02:42.604854Z",
     "iopub.status.idle": "2025-10-17T10:02:42.609004Z",
     "shell.execute_reply": "2025-10-17T10:02:42.608305Z"
    }
   },
   "outputs": [
    {
     "name": "stdout",
     "output_type": "stream",
     "text": [
      "Actual data: 1078 observations from 2022-07-04 00:00:00 to 2025-06-15 00:00:00\n"
     ]
    }
   ],
   "source": [
    "# Load actual data\n",
    "flu_series = pd.read_pickle(data_dir / 'flu_daily_clean.pkl')\n",
    "print(f\"Actual data: {len(flu_series)} observations from {flu_series.index.min()} to {flu_series.index.max()}\")"
   ]
  },
  {
   "cell_type": "code",
   "execution_count": 4,
   "metadata": {
    "execution": {
     "iopub.execute_input": "2025-10-17T10:02:42.631317Z",
     "iopub.status.busy": "2025-10-17T10:02:42.631149Z",
     "iopub.status.idle": "2025-10-17T10:02:42.634877Z",
     "shell.execute_reply": "2025-10-17T10:02:42.634216Z"
    }
   },
   "outputs": [
    {
     "name": "stdout",
     "output_type": "stream",
     "text": [
      "Loading 7 forecast files for evaluation:\n",
      "  ✅ chronos.parquet\n",
      "  ✅ tabpfn.parquet\n",
      "  ✅ tabpfn_enhanced.parquet\n",
      "  ✅ sarima_fourier.parquet\n",
      "  ✅ sarima_autoarima.parquet\n",
      "  ✅ lightgbm.parquet\n",
      "  ✅ lightgbm_optuna.parquet\n"
     ]
    }
   ],
   "source": [
    "# Load ALL models: foundation models, baselines, and optimized versions\n",
    "# We compare all 7 models:\n",
    "# - Foundation: Chronos_Tiny, TabPFN_TS (baseline univariate), TabPFN_Enhanced (with features)\n",
    "# - Baselines: SARIMA_Baseline (fixed order), LightGBM_Baseline (defaults)\n",
    "# - Optimized: SARIMA_Optimized (AutoARIMA), LightGBM_Optimized (Optuna)\n",
    "forecast_files = [\n",
    "    forecasts_dir / 'chronos.parquet',\n",
    "    forecasts_dir / 'tabpfn.parquet',\n",
    "    forecasts_dir / 'tabpfn_enhanced.parquet',\n",
    "    forecasts_dir / 'sarima_fourier.parquet',      # Baseline SARIMA\n",
    "    forecasts_dir / 'sarima_autoarima.parquet',    # Optimized SARIMA\n",
    "    forecasts_dir / 'lightgbm.parquet',            # Baseline LightGBM\n",
    "    forecasts_dir / 'lightgbm_optuna.parquet'      # Optimized LightGBM\n",
    "]\n",
    "\n",
    "print(f\"Loading {len(forecast_files)} forecast files for evaluation:\")\n",
    "for f in forecast_files:\n",
    "    if f.exists():\n",
    "        print(f\"  ✅ {f.name}\")\n",
    "    else:\n",
    "        print(f\"  ⚠️  {f.name} (missing - will skip)\")"
   ]
  },
  {
   "cell_type": "code",
   "execution_count": 5,
   "metadata": {
    "execution": {
     "iopub.execute_input": "2025-10-17T10:02:42.636254Z",
     "iopub.status.busy": "2025-10-17T10:02:42.636138Z",
     "iopub.status.idle": "2025-10-17T10:02:42.678775Z",
     "shell.execute_reply": "2025-10-17T10:02:42.677667Z"
    }
   },
   "outputs": [
    {
     "name": "stdout",
     "output_type": "stream",
     "text": [
      "\n",
      "Combined forecasts shape: (329, 8)\n",
      "Models: ['Chronos_Tiny', 'LightGBM_Baseline', 'LightGBM_Optimized', 'SARIMA_Baseline', 'SARIMA_Optimized', 'TabPFN_Enhanced', 'TabPFN_TS']\n",
      "Horizons: [7, 28]\n",
      "\n",
      "Forecasts per model:\n",
      "model\n",
      "Chronos_Tiny          47\n",
      "LightGBM_Baseline     47\n",
      "LightGBM_Optimized    47\n",
      "SARIMA_Baseline       47\n",
      "SARIMA_Optimized      47\n",
      "TabPFN_Enhanced       47\n",
      "TabPFN_TS             47\n",
      "dtype: int64\n",
      "\n",
      "Sample:\n",
      "        date     origin  horizon         model      q0.1      q0.5      q0.9  \\\n",
      "0 2024-07-14 2024-07-08        7  Chronos_Tiny  0.703689  0.994871  1.188992   \n",
      "1 2024-08-04 2024-07-08       28  Chronos_Tiny  0.509568  0.994871  2.445927   \n",
      "2 2024-07-28 2024-07-22        7  Chronos_Tiny  0.598288  1.196575  1.656060   \n",
      "3 2024-08-18 2024-07-22       28  Chronos_Tiny  0.598288  1.340164  6.492618   \n",
      "4 2024-08-11 2024-08-05        7  Chronos_Tiny  0.498502  0.807099  1.602329   \n",
      "5 2024-09-01 2024-08-05       28  Chronos_Tiny  0.427288  1.210648  4.242017   \n",
      "6 2024-08-25 2024-08-19        7  Chronos_Tiny  0.702395  0.796047  1.194071   \n",
      "7 2024-09-15 2024-08-19       28  Chronos_Tiny  0.440167  1.194071  3.926386   \n",
      "8 2024-09-08 2024-09-02        7  Chronos_Tiny  0.603083  0.997407  1.354618   \n",
      "9 2024-09-29 2024-09-02       28  Chronos_Tiny  0.695865  1.600490  6.548092   \n",
      "\n",
      "   actual  \n",
      "0     0.8  \n",
      "1     0.9  \n",
      "2     1.3  \n",
      "3     0.8  \n",
      "4     0.9  \n",
      "5     1.0  \n",
      "6     0.7  \n",
      "7     1.1  \n",
      "8     1.3  \n",
      "9     1.7  \n"
     ]
    }
   ],
   "source": [
    "# Combine all forecasts\n",
    "forecasts_list = []\n",
    "for f in forecast_files:\n",
    "    if f.exists():\n",
    "        df = pd.read_parquet(f)\n",
    "\n",
    "        # Tag the source file to distinguish baseline vs optimized\n",
    "        if 'sarima_fourier' in f.name:\n",
    "            df['model'] = 'SARIMA_Baseline'\n",
    "        elif 'sarima_autoarima' in f.name:\n",
    "            df['model'] = 'SARIMA_Optimized'\n",
    "        elif 'lightgbm_optuna' in f.name:\n",
    "            df['model'] = 'LightGBM_Optimized'\n",
    "        elif 'lightgbm.parquet' == f.name:\n",
    "            df['model'] = 'LightGBM_Baseline'\n",
    "        # Keep existing model names for foundation models (Chronos_Tiny, TabPFN_TS, TabPFN_Enhanced)\n",
    "\n",
    "        forecasts_list.append(df)\n",
    "\n",
    "forecasts_df = pd.concat(forecasts_list, ignore_index=True)\n",
    "\n",
    "print(f\"\\nCombined forecasts shape: {forecasts_df.shape}\")\n",
    "print(f\"Models: {sorted(forecasts_df['model'].unique())}\")\n",
    "print(f\"Horizons: {sorted(forecasts_df['horizon'].unique())}\")\n",
    "print(f\"\\nForecasts per model:\")\n",
    "print(forecasts_df.groupby('model').size())\n",
    "print(f\"\\nSample:\")\n",
    "print(forecasts_df.head(10))"
   ]
  },
  {
   "cell_type": "markdown",
   "metadata": {},
   "source": [
    "## Prepare Evaluation Data"
   ]
  },
  {
   "cell_type": "code",
   "execution_count": 6,
   "metadata": {
    "execution": {
     "iopub.execute_input": "2025-10-17T10:02:42.680315Z",
     "iopub.status.busy": "2025-10-17T10:02:42.680185Z",
     "iopub.status.idle": "2025-10-17T10:02:42.684542Z",
     "shell.execute_reply": "2025-10-17T10:02:42.683913Z"
    }
   },
   "outputs": [
    {
     "name": "stdout",
     "output_type": "stream",
     "text": [
      "Evaluation data shape: (329, 8)\n",
      "Missing actuals: 0\n",
      "\n",
      "Data range: 2024-07-14 00:00:00 to 2025-06-08 00:00:00\n",
      "Number of forecasts by model:\n",
      "model\n",
      "Chronos_Tiny          47\n",
      "LightGBM_Baseline     47\n",
      "LightGBM_Optimized    47\n",
      "SARIMA_Baseline       47\n",
      "SARIMA_Optimized      47\n",
      "TabPFN_Enhanced       47\n",
      "TabPFN_TS             47\n",
      "dtype: int64\n"
     ]
    }
   ],
   "source": [
    "# The forecast files already contain the actual values\n",
    "# Just check for any missing actuals\n",
    "eval_df = forecasts_df.copy()\n",
    "print(f\"Evaluation data shape: {eval_df.shape}\")\n",
    "print(f\"Missing actuals: {eval_df['actual'].isna().sum()}\")\n",
    "\n",
    "# Drop rows where we don't have actuals (shouldn't be any)\n",
    "if eval_df['actual'].isna().sum() > 0:\n",
    "    eval_df = eval_df.dropna(subset=['actual'])\n",
    "    print(f\"After dropping missing actuals: {eval_df.shape}\")\n",
    "\n",
    "print(f\"\\nData range: {eval_df['date'].min()} to {eval_df['date'].max()}\")\n",
    "print(f\"Number of forecasts by model:\")\n",
    "print(eval_df.groupby('model').size())"
   ]
  },
  {
   "cell_type": "markdown",
   "metadata": {},
   "source": [
    "## Metric Functions"
   ]
  },
  {
   "cell_type": "code",
   "execution_count": 7,
   "metadata": {
    "execution": {
     "iopub.execute_input": "2025-10-17T10:02:42.685754Z",
     "iopub.status.busy": "2025-10-17T10:02:42.685597Z",
     "iopub.status.idle": "2025-10-17T10:02:42.689657Z",
     "shell.execute_reply": "2025-10-17T10:02:42.688917Z"
    }
   },
   "outputs": [],
   "source": [
    "def mape(actual, predicted):\n",
    "    \"\"\"Mean Absolute Percentage Error\"\"\"\n",
    "    return np.mean(np.abs((actual - predicted) / actual)) * 100\n",
    "\n",
    "\n",
    "def smape(actual, predicted):\n",
    "    \"\"\"Symmetric Mean Absolute Percentage Error\"\"\"\n",
    "    return np.mean(2.0 * np.abs(predicted - actual) / (np.abs(actual) + np.abs(predicted))) * 100\n",
    "\n",
    "\n",
    "def mase(actual, predicted, seasonal_period=365):\n",
    "    \"\"\"Mean Absolute Scaled Error (scaled by seasonal naive forecast)\"\"\"\n",
    "    # Find the training data to compute naive seasonal error\n",
    "    # We'll use the full series up to the earliest forecast date\n",
    "    train_data = flu_series.loc[:eval_df['origin'].min()]\n",
    "\n",
    "    # Seasonal naive MAE on training set\n",
    "    if len(train_data) > seasonal_period:\n",
    "        naive_errors = np.abs(train_data.values[seasonal_period:] - train_data.values[:-seasonal_period])\n",
    "        naive_mae = np.mean(naive_errors)\n",
    "    else:\n",
    "        # Fallback to simple naive if not enough data\n",
    "        naive_errors = np.abs(train_data.diff().dropna())\n",
    "        naive_mae = np.mean(naive_errors)\n",
    "\n",
    "    mae = np.mean(np.abs(actual - predicted))\n",
    "    return mae / naive_mae\n",
    "\n",
    "\n",
    "def crps_quantile(actual, q_low, q_med, q_high):\n",
    "    \"\"\"Continuous Ranked Probability Score from quantiles\n",
    "\n",
    "    Approximation using 3 quantiles (0.1, 0.5, 0.9)\n",
    "    CRPS = integral of (F(x) - 1{y <= x})^2 dx\n",
    "    \"\"\"\n",
    "    # Simple approximation: penalize distance to median + interval width\n",
    "    point_error = np.abs(actual - q_med)\n",
    "    interval_width = q_high - q_low\n",
    "\n",
    "    # Weight point error more heavily, add penalty for wide intervals\n",
    "    return point_error + 0.1 * interval_width\n",
    "\n",
    "\n",
    "def coverage(actual, q_low, q_high):\n",
    "    \"\"\"Percentage of actuals within prediction interval\"\"\"\n",
    "    return np.mean((actual >= q_low) & (actual <= q_high)) * 100"
   ]
  },
  {
   "cell_type": "markdown",
   "metadata": {},
   "source": [
    "## Calculate Metrics"
   ]
  },
  {
   "cell_type": "code",
   "execution_count": 8,
   "metadata": {
    "execution": {
     "iopub.execute_input": "2025-10-17T10:02:42.690806Z",
     "iopub.status.busy": "2025-10-17T10:02:42.690697Z",
     "iopub.status.idle": "2025-10-17T10:02:42.704055Z",
     "shell.execute_reply": "2025-10-17T10:02:42.703406Z"
    }
   },
   "outputs": [
    {
     "name": "stdout",
     "output_type": "stream",
     "text": [
      "\n",
      "Metrics Summary:\n",
      "             model  horizon  n_forecasts      MAPE     sMAPE     MASE     CRPS  Coverage_80\n",
      "      Chronos_Tiny        7           24 15.096814 15.237444 0.219267 1.186668    66.666667\n",
      "      Chronos_Tiny       28           23 47.997534 41.625952 0.766558 4.119184    69.565217\n",
      "         TabPFN_TS        7           24 33.548724 39.186586 0.370339 2.227154    58.333333\n",
      "         TabPFN_TS       28           23 46.271920 63.007671 0.872181 4.509701    60.869565\n",
      "   TabPFN_Enhanced        7           24 14.139669 14.402439 0.184751 1.158329    79.166667\n",
      "   TabPFN_Enhanced       28           23 43.843088 50.703345 0.857588 4.925810    86.956522\n",
      "   SARIMA_Baseline        7           24 65.177785 76.415992 1.006944 4.785015    41.666667\n",
      "   SARIMA_Baseline       28           23 69.948019 83.730633 1.170388 5.759718    47.826087\n",
      "  SARIMA_Optimized        7           24 19.532987 18.692880 0.200540 1.191886    79.166667\n",
      "  SARIMA_Optimized       28           23 81.430291 60.068619 0.835880 5.179394    82.608696\n",
      " LightGBM_Baseline        7           24 18.649180 18.538976 0.286662 1.538541    50.000000\n",
      " LightGBM_Baseline       28           23 68.831980 57.556026 0.985594 4.909233    26.086957\n",
      "LightGBM_Optimized        7           24 18.256585 18.035483 0.268945 1.419312    41.666667\n",
      "LightGBM_Optimized       28           23 61.246397 52.465287 0.829723 4.109520    30.434783\n"
     ]
    }
   ],
   "source": [
    "# Calculate all metrics by model and horizon\n",
    "metrics_list = []\n",
    "\n",
    "for model in eval_df['model'].unique():\n",
    "    for horizon in sorted(eval_df['horizon'].unique()):\n",
    "        subset = eval_df[(eval_df['model'] == model) & (eval_df['horizon'] == horizon)]\n",
    "\n",
    "        if len(subset) == 0:\n",
    "            continue\n",
    "\n",
    "        actual = subset['actual'].values\n",
    "        q_low = subset['q0.1'].values\n",
    "        q_med = subset['q0.5'].values\n",
    "        q_high = subset['q0.9'].values\n",
    "\n",
    "        metrics = {\n",
    "            'model': model,\n",
    "            'horizon': horizon,\n",
    "            'n_forecasts': len(subset),\n",
    "            'MAPE': mape(actual, q_med),\n",
    "            'sMAPE': smape(actual, q_med),\n",
    "            'MASE': mase(actual, q_med),\n",
    "            'CRPS': np.mean(crps_quantile(actual, q_low, q_med, q_high)),\n",
    "            'Coverage_80': coverage(actual, q_low, q_high)\n",
    "        }\n",
    "\n",
    "        metrics_list.append(metrics)\n",
    "\n",
    "metrics_df = pd.DataFrame(metrics_list)\n",
    "print(\"\\nMetrics Summary:\")\n",
    "print(metrics_df.to_string(index=False))"
   ]
  },
  {
   "cell_type": "code",
   "execution_count": 9,
   "metadata": {
    "execution": {
     "iopub.execute_input": "2025-10-17T10:02:42.705402Z",
     "iopub.status.busy": "2025-10-17T10:02:42.705287Z",
     "iopub.status.idle": "2025-10-17T10:02:42.715622Z",
     "shell.execute_reply": "2025-10-17T10:02:42.714984Z"
    }
   },
   "outputs": [
    {
     "name": "stdout",
     "output_type": "stream",
     "text": [
      "\n",
      "MAPE by Model and Horizon:\n",
      "horizon                7      28\n",
      "model                           \n",
      "Chronos_Tiny        15.10  48.00\n",
      "LightGBM_Baseline   18.65  68.83\n",
      "LightGBM_Optimized  18.26  61.25\n",
      "SARIMA_Baseline     65.18  69.95\n",
      "SARIMA_Optimized    19.53  81.43\n",
      "TabPFN_Enhanced     14.14  43.84\n",
      "TabPFN_TS           33.55  46.27\n",
      "\n",
      "sMAPE by Model and Horizon:\n",
      "horizon                7      28\n",
      "model                           \n",
      "Chronos_Tiny        15.24  41.63\n",
      "LightGBM_Baseline   18.54  57.56\n",
      "LightGBM_Optimized  18.04  52.47\n",
      "SARIMA_Baseline     76.42  83.73\n",
      "SARIMA_Optimized    18.69  60.07\n",
      "TabPFN_Enhanced     14.40  50.70\n",
      "TabPFN_TS           39.19  63.01\n",
      "\n",
      "MASE by Model and Horizon:\n",
      "horizon               7     28\n",
      "model                         \n",
      "Chronos_Tiny        0.22  0.77\n",
      "LightGBM_Baseline   0.29  0.99\n",
      "LightGBM_Optimized  0.27  0.83\n",
      "SARIMA_Baseline     1.01  1.17\n",
      "SARIMA_Optimized    0.20  0.84\n",
      "TabPFN_Enhanced     0.18  0.86\n",
      "TabPFN_TS           0.37  0.87\n",
      "\n",
      "CRPS by Model and Horizon:\n",
      "horizon               7     28\n",
      "model                         \n",
      "Chronos_Tiny        1.19  4.12\n",
      "LightGBM_Baseline   1.54  4.91\n",
      "LightGBM_Optimized  1.42  4.11\n",
      "SARIMA_Baseline     4.79  5.76\n",
      "SARIMA_Optimized    1.19  5.18\n",
      "TabPFN_Enhanced     1.16  4.93\n",
      "TabPFN_TS           2.23  4.51\n",
      "\n",
      "Coverage_80 by Model and Horizon:\n",
      "horizon                7      28\n",
      "model                           \n",
      "Chronos_Tiny        66.67  69.57\n",
      "LightGBM_Baseline   50.00  26.09\n",
      "LightGBM_Optimized  41.67  30.43\n",
      "SARIMA_Baseline     41.67  47.83\n",
      "SARIMA_Optimized    79.17  82.61\n",
      "TabPFN_Enhanced     79.17  86.96\n",
      "TabPFN_TS           58.33  60.87\n"
     ]
    }
   ],
   "source": [
    "# Pivot for easier comparison\n",
    "for metric in ['MAPE', 'sMAPE', 'MASE', 'CRPS', 'Coverage_80']:\n",
    "    print(f\"\\n{metric} by Model and Horizon:\")\n",
    "    pivot = metrics_df.pivot(index='model', columns='horizon', values=metric)\n",
    "    print(pivot.round(2))"
   ]
  },
  {
   "cell_type": "code",
   "execution_count": 10,
   "metadata": {
    "execution": {
     "iopub.execute_input": "2025-10-17T10:02:42.716731Z",
     "iopub.status.busy": "2025-10-17T10:02:42.716615Z",
     "iopub.status.idle": "2025-10-17T10:02:42.721864Z",
     "shell.execute_reply": "2025-10-17T10:02:42.721291Z"
    }
   },
   "outputs": [
    {
     "name": "stdout",
     "output_type": "stream",
     "text": [
      "============================================================\n",
      "OPTIMIZATION & FEATURE ENGINEERING IMPACT\n",
      "============================================================\n",
      "\n",
      "SARIMA:\n",
      "  Baseline (fixed order):  MASE = 1.089\n",
      "  Optimized (AutoARIMA):   MASE = 0.518\n",
      "  Improvement: +52.4%\n",
      "\n",
      "LightGBM:\n",
      "  Baseline (defaults):     MASE = 0.636\n",
      "  Optimized (Optuna):      MASE = 0.549\n",
      "  Improvement: +13.6%\n",
      "\n",
      "TabPFN-TS:\n",
      "  Baseline (univariate):   MASE = 0.621\n",
      "  Enhanced (+ features):   MASE = 0.521\n",
      "  Improvement: +16.1%\n",
      "\n",
      "============================================================\n",
      "Interpretation:\n",
      "  - SARIMA/LightGBM: Hyperparameter optimization\n",
      "  - TabPFN: Feature engineering (calendar features)\n",
      "  - Positive improvement: Optimization/features helped\n",
      "============================================================\n"
     ]
    }
   ],
   "source": [
    "# Compute optimization improvement from actual data\n",
    "optimized_mase = metrics_df.groupby('model')['MASE'].mean()\n",
    "\n",
    "print(\"=\" * 60)\n",
    "print(\"OPTIMIZATION & FEATURE ENGINEERING IMPACT\")\n",
    "print(\"=\" * 60)\n",
    "\n",
    "# SARIMA comparison\n",
    "if 'SARIMA_Baseline' in optimized_mase.index and 'SARIMA_Optimized' in optimized_mase.index:\n",
    "    baseline_sarima = optimized_mase['SARIMA_Baseline']\n",
    "    optimized_sarima = optimized_mase['SARIMA_Optimized']\n",
    "    sarima_improvement = ((baseline_sarima - optimized_sarima) / baseline_sarima * 100)\n",
    "    print(f\"\\nSARIMA:\")\n",
    "    print(f\"  Baseline (fixed order):  MASE = {baseline_sarima:.3f}\")\n",
    "    print(f\"  Optimized (AutoARIMA):   MASE = {optimized_sarima:.3f}\")\n",
    "    print(f\"  Improvement: {sarima_improvement:+.1f}%\")\n",
    "\n",
    "# LightGBM comparison\n",
    "if 'LightGBM_Baseline' in optimized_mase.index and 'LightGBM_Optimized' in optimized_mase.index:\n",
    "    baseline_lgb = optimized_mase['LightGBM_Baseline']\n",
    "    optimized_lgb = optimized_mase['LightGBM_Optimized']\n",
    "    lgb_improvement = ((baseline_lgb - optimized_lgb) / baseline_lgb * 100)\n",
    "    print(f\"\\nLightGBM:\")\n",
    "    print(f\"  Baseline (defaults):     MASE = {baseline_lgb:.3f}\")\n",
    "    print(f\"  Optimized (Optuna):      MASE = {optimized_lgb:.3f}\")\n",
    "    print(f\"  Improvement: {lgb_improvement:+.1f}%\")\n",
    "\n",
    "# TabPFN comparison\n",
    "if 'TabPFN_TS' in optimized_mase.index and 'TabPFN_Enhanced' in optimized_mase.index:\n",
    "    baseline_tabpfn = optimized_mase['TabPFN_TS']\n",
    "    enhanced_tabpfn = optimized_mase['TabPFN_Enhanced']\n",
    "    tabpfn_improvement = ((baseline_tabpfn - enhanced_tabpfn) / baseline_tabpfn * 100)\n",
    "    print(f\"\\nTabPFN-TS:\")\n",
    "    print(f\"  Baseline (univariate):   MASE = {baseline_tabpfn:.3f}\")\n",
    "    print(f\"  Enhanced (+ features):   MASE = {enhanced_tabpfn:.3f}\")\n",
    "    print(f\"  Improvement: {tabpfn_improvement:+.1f}%\")\n",
    "\n",
    "print(\"\\n\" + \"=\" * 60)\n",
    "print(\"Interpretation:\")\n",
    "print(\"  - SARIMA/LightGBM: Hyperparameter optimization\")\n",
    "print(\"  - TabPFN: Feature engineering (calendar features)\")\n",
    "print(\"  - Positive improvement: Optimization/features helped\")\n",
    "print(\"=\" * 60)"
   ]
  },
  {
   "cell_type": "markdown",
   "metadata": {},
   "source": [
    "## Optimization Impact\n",
    "\n",
    "Comparison of optimized models vs original baselines (from nb/02_roll_loop.ipynb):\n",
    "\n",
    "**Original Baseline Performance (Average MASE across horizons):**\n",
    "- SARIMA_Fourier (fixed order 1,0,1): 1.09\n",
    "- LightGBM (default hyperparameters): 0.64\n",
    "\n",
    "**Optimization Methods:**\n",
    "- SARIMA_Optimized: AutoARIMA model selection with AIC criterion (nb/02b)\n",
    "- LightGBM_Optimized: Optuna hyperparameter tuning with CRPS minimization (nb/02c)"
   ]
  },
  {
   "cell_type": "markdown",
   "metadata": {},
   "source": [
    "## Diebold-Mariano Tests\n",
    "\n",
    "Test if differences in CRPS between models are statistically significant.\n",
    "Null hypothesis: two forecasts have equal accuracy."
   ]
  },
  {
   "cell_type": "code",
   "execution_count": 11,
   "metadata": {
    "execution": {
     "iopub.execute_input": "2025-10-17T10:02:42.723032Z",
     "iopub.status.busy": "2025-10-17T10:02:42.722917Z",
     "iopub.status.idle": "2025-10-17T10:02:42.725638Z",
     "shell.execute_reply": "2025-10-17T10:02:42.724943Z"
    }
   },
   "outputs": [],
   "source": [
    "def diebold_mariano_test(errors1, errors2):\n",
    "    \"\"\"Diebold-Mariano test for forecast accuracy comparison\n",
    "\n",
    "    H0: errors1 and errors2 have equal accuracy\n",
    "    Returns: (statistic, p_value)\n",
    "\n",
    "    Negative statistic means errors1 < errors2 (model1 better)\n",
    "    \"\"\"\n",
    "    d = errors1 - errors2\n",
    "\n",
    "    if len(d) < 2:\n",
    "        return np.nan, np.nan\n",
    "\n",
    "    # Mean difference\n",
    "    d_mean = np.mean(d)\n",
    "\n",
    "    # Variance of d (accounting for autocorrelation)\n",
    "    d_var = np.var(d, ddof=1)\n",
    "\n",
    "    if d_var == 0:\n",
    "        return np.nan, np.nan\n",
    "\n",
    "    # DM statistic\n",
    "    dm_stat = d_mean / np.sqrt(d_var / len(d))\n",
    "\n",
    "    # Two-tailed p-value\n",
    "    p_value = 2 * (1 - stats.norm.cdf(np.abs(dm_stat)))\n",
    "\n",
    "    return dm_stat, p_value"
   ]
  },
  {
   "cell_type": "code",
   "execution_count": 12,
   "metadata": {
    "execution": {
     "iopub.execute_input": "2025-10-17T10:02:42.726771Z",
     "iopub.status.busy": "2025-10-17T10:02:42.726660Z",
     "iopub.status.idle": "2025-10-17T10:02:42.775288Z",
     "shell.execute_reply": "2025-10-17T10:02:42.774497Z"
    }
   },
   "outputs": [
    {
     "name": "stdout",
     "output_type": "stream",
     "text": [
      "\n",
      "Horizon 7 days:\n",
      "  Chronos_Tiny vs LightGBM_Baseline: DM=-1.08, p=0.2819  (better: Chronos_Tiny)\n",
      "  Chronos_Tiny vs LightGBM_Optimized: DM=-0.64, p=0.5199  (better: Chronos_Tiny)\n",
      "  Chronos_Tiny vs SARIMA_Baseline: DM=-4.14, p=0.0000 *** (better: Chronos_Tiny)\n",
      "  Chronos_Tiny vs SARIMA_Optimized: DM=-0.02, p=0.9864  (better: Chronos_Tiny)\n",
      "  Chronos_Tiny vs TabPFN_Enhanced: DM=0.12, p=0.9031  (better: TabPFN_Enhanced)\n",
      "  Chronos_Tiny vs TabPFN_TS: DM=-2.77, p=0.0056 *** (better: Chronos_Tiny)\n",
      "  LightGBM_Baseline vs LightGBM_Optimized: DM=0.52, p=0.6009  (better: LightGBM_Optimized)\n",
      "  LightGBM_Baseline vs SARIMA_Baseline: DM=-4.50, p=0.0000 *** (better: LightGBM_Baseline)\n",
      "  LightGBM_Baseline vs SARIMA_Optimized: DM=1.14, p=0.2538  (better: SARIMA_Optimized)\n",
      "  LightGBM_Baseline vs TabPFN_Enhanced: DM=1.69, p=0.0910 * (better: TabPFN_Enhanced)\n",
      "  LightGBM_Baseline vs TabPFN_TS: DM=-1.23, p=0.2176  (better: LightGBM_Baseline)\n",
      "  LightGBM_Optimized vs SARIMA_Baseline: DM=-4.70, p=0.0000 *** (better: LightGBM_Optimized)\n",
      "  LightGBM_Optimized vs SARIMA_Optimized: DM=0.82, p=0.4117  (better: SARIMA_Optimized)\n",
      "  LightGBM_Optimized vs TabPFN_Enhanced: DM=1.21, p=0.2272  (better: TabPFN_Enhanced)\n",
      "  LightGBM_Optimized vs TabPFN_TS: DM=-1.51, p=0.1301  (better: LightGBM_Optimized)\n",
      "  SARIMA_Baseline vs SARIMA_Optimized: DM=4.22, p=0.0000 *** (better: SARIMA_Optimized)\n",
      "  SARIMA_Baseline vs TabPFN_Enhanced: DM=4.46, p=0.0000 *** (better: TabPFN_Enhanced)\n",
      "  SARIMA_Baseline vs TabPFN_TS: DM=3.02, p=0.0025 *** (better: TabPFN_TS)\n",
      "  SARIMA_Optimized vs TabPFN_Enhanced: DM=0.24, p=0.8072  (better: TabPFN_Enhanced)\n",
      "  SARIMA_Optimized vs TabPFN_TS: DM=-2.31, p=0.0211 ** (better: SARIMA_Optimized)\n",
      "  TabPFN_Enhanced vs TabPFN_TS: DM=-2.51, p=0.0120 ** (better: TabPFN_Enhanced)\n",
      "\n",
      "Horizon 28 days:\n",
      "  Chronos_Tiny vs LightGBM_Baseline: DM=-1.36, p=0.1740  (better: Chronos_Tiny)\n",
      "  Chronos_Tiny vs LightGBM_Optimized: DM=0.02, p=0.9856  (better: LightGBM_Optimized)\n",
      "  Chronos_Tiny vs SARIMA_Baseline: DM=-1.41, p=0.1600  (better: Chronos_Tiny)\n",
      "  Chronos_Tiny vs SARIMA_Optimized: DM=-1.13, p=0.2585  (better: Chronos_Tiny)\n",
      "  Chronos_Tiny vs TabPFN_Enhanced: DM=-0.89, p=0.3739  (better: Chronos_Tiny)\n",
      "  Chronos_Tiny vs TabPFN_TS: DM=-0.39, p=0.6957  (better: Chronos_Tiny)\n",
      "  LightGBM_Baseline vs LightGBM_Optimized: DM=2.11, p=0.0349 ** (better: LightGBM_Optimized)\n",
      "  LightGBM_Baseline vs SARIMA_Baseline: DM=-0.93, p=0.3522  (better: LightGBM_Baseline)\n",
      "  LightGBM_Baseline vs SARIMA_Optimized: DM=-0.37, p=0.7137  (better: LightGBM_Baseline)\n",
      "  LightGBM_Baseline vs TabPFN_Enhanced: DM=-0.02, p=0.9847  (better: LightGBM_Baseline)\n",
      "  LightGBM_Baseline vs TabPFN_TS: DM=0.41, p=0.6810  (better: TabPFN_TS)\n",
      "  LightGBM_Optimized vs SARIMA_Baseline: DM=-1.84, p=0.0653 * (better: LightGBM_Optimized)\n",
      "  LightGBM_Optimized vs SARIMA_Optimized: DM=-1.56, p=0.1192  (better: LightGBM_Optimized)\n",
      "  LightGBM_Optimized vs TabPFN_Enhanced: DM=-1.00, p=0.3173  (better: LightGBM_Optimized)\n",
      "  LightGBM_Optimized vs TabPFN_TS: DM=-0.40, p=0.6916  (better: LightGBM_Optimized)\n",
      "  SARIMA_Baseline vs SARIMA_Optimized: DM=0.93, p=0.3547  (better: SARIMA_Optimized)\n",
      "  SARIMA_Baseline vs TabPFN_Enhanced: DM=1.39, p=0.1652  (better: TabPFN_Enhanced)\n",
      "  SARIMA_Baseline vs TabPFN_TS: DM=1.21, p=0.2271  (better: TabPFN_TS)\n",
      "  SARIMA_Optimized vs TabPFN_Enhanced: DM=0.40, p=0.6899  (better: TabPFN_Enhanced)\n",
      "  SARIMA_Optimized vs TabPFN_TS: DM=0.77, p=0.4399  (better: TabPFN_TS)\n",
      "  TabPFN_Enhanced vs TabPFN_TS: DM=0.48, p=0.6341  (better: TabPFN_TS)\n",
      "\n",
      "Diebold-Mariano Test Results:\n",
      " horizon             model1             model2  mean_crps1  mean_crps2  dm_statistic  p_value  significant_5pct\n",
      "       7       Chronos_Tiny  LightGBM_Baseline    1.186668    1.538541     -1.076122 0.281873             False\n",
      "       7       Chronos_Tiny LightGBM_Optimized    1.186668    1.419312     -0.643537 0.519876             False\n",
      "       7       Chronos_Tiny    SARIMA_Baseline    1.186668    4.785015     -4.137286 0.000035              True\n",
      "       7       Chronos_Tiny   SARIMA_Optimized    1.186668    1.191886     -0.017057 0.986391             False\n",
      "       7       Chronos_Tiny    TabPFN_Enhanced    1.186668    1.158329      0.121769 0.903082             False\n",
      "       7       Chronos_Tiny          TabPFN_TS    1.186668    2.227154     -2.768035 0.005640              True\n",
      "       7  LightGBM_Baseline LightGBM_Optimized    1.538541    1.419312      0.523080 0.600919             False\n",
      "       7  LightGBM_Baseline    SARIMA_Baseline    1.538541    4.785015     -4.497402 0.000007              True\n",
      "       7  LightGBM_Baseline   SARIMA_Optimized    1.538541    1.191886      1.141254 0.253764             False\n",
      "       7  LightGBM_Baseline    TabPFN_Enhanced    1.538541    1.158329      1.690368 0.090958             False\n",
      "       7  LightGBM_Baseline          TabPFN_TS    1.538541    2.227154     -1.232976 0.217585             False\n",
      "       7 LightGBM_Optimized    SARIMA_Baseline    1.419312    4.785015     -4.699035 0.000003              True\n",
      "       7 LightGBM_Optimized   SARIMA_Optimized    1.419312    1.191886      0.820878 0.411716             False\n",
      "       7 LightGBM_Optimized    TabPFN_Enhanced    1.419312    1.158329      1.207697 0.227164             False\n",
      "       7 LightGBM_Optimized          TabPFN_TS    1.419312    2.227154     -1.513888 0.130054             False\n",
      "       7    SARIMA_Baseline   SARIMA_Optimized    4.785015    1.191886      4.216917 0.000025              True\n",
      "       7    SARIMA_Baseline    TabPFN_Enhanced    4.785015    1.158329      4.464467 0.000008              True\n",
      "       7    SARIMA_Baseline          TabPFN_TS    4.785015    2.227154      3.023605 0.002498              True\n",
      "       7   SARIMA_Optimized    TabPFN_Enhanced    1.191886    1.158329      0.244064 0.807181             False\n",
      "       7   SARIMA_Optimized          TabPFN_TS    1.191886    2.227154     -2.305513 0.021138              True\n",
      "       7    TabPFN_Enhanced          TabPFN_TS    1.158329    2.227154     -2.511075 0.012036              True\n",
      "      28       Chronos_Tiny  LightGBM_Baseline    4.119184    4.909233     -1.359522 0.173981             False\n",
      "      28       Chronos_Tiny LightGBM_Optimized    4.119184    4.109520      0.018041 0.985606             False\n",
      "      28       Chronos_Tiny    SARIMA_Baseline    4.119184    5.759718     -1.405158 0.159974             False\n",
      "      28       Chronos_Tiny   SARIMA_Optimized    4.119184    5.179394     -1.130060 0.258451             False\n",
      "      28       Chronos_Tiny    TabPFN_Enhanced    4.119184    4.925810     -0.889114 0.373942             False\n",
      "      28       Chronos_Tiny          TabPFN_TS    4.119184    4.509701     -0.391128 0.695703             False\n",
      "      28  LightGBM_Baseline LightGBM_Optimized    4.909233    4.109520      2.109385 0.034911              True\n",
      "      28  LightGBM_Baseline    SARIMA_Baseline    4.909233    5.759718     -0.930336 0.352197             False\n",
      "      28  LightGBM_Baseline   SARIMA_Optimized    4.909233    5.179394     -0.366897 0.713696             False\n",
      "      28  LightGBM_Baseline    TabPFN_Enhanced    4.909233    4.925810     -0.019174 0.984703             False\n",
      "      28  LightGBM_Baseline          TabPFN_TS    4.909233    4.509701      0.411113 0.680990             False\n",
      "      28 LightGBM_Optimized    SARIMA_Baseline    4.109520    5.759718     -1.843432 0.065266             False\n",
      "      28 LightGBM_Optimized   SARIMA_Optimized    4.109520    5.179394     -1.558210 0.119183             False\n",
      "      28 LightGBM_Optimized    TabPFN_Enhanced    4.109520    4.925810     -0.999999 0.317311             False\n",
      "      28 LightGBM_Optimized          TabPFN_TS    4.109520    4.509701     -0.396655 0.691622             False\n",
      "      28    SARIMA_Baseline   SARIMA_Optimized    5.759718    5.179394      0.925436 0.354739             False\n",
      "      28    SARIMA_Baseline    TabPFN_Enhanced    5.759718    4.925810      1.387840 0.165186             False\n",
      "      28    SARIMA_Baseline          TabPFN_TS    5.759718    4.509701      1.207916 0.227080             False\n",
      "      28   SARIMA_Optimized    TabPFN_Enhanced    5.179394    4.925810      0.399047 0.689859             False\n",
      "      28   SARIMA_Optimized          TabPFN_TS    5.179394    4.509701      0.772278 0.439950             False\n",
      "      28    TabPFN_Enhanced          TabPFN_TS    4.925810    4.509701      0.475998 0.634076             False\n"
     ]
    }
   ],
   "source": [
    "# Compute DM tests for all model pairs by horizon\n",
    "models = sorted(eval_df['model'].unique())\n",
    "horizons = sorted(eval_df['horizon'].unique())\n",
    "\n",
    "dm_results = []\n",
    "\n",
    "for horizon in horizons:\n",
    "    print(f\"\\nHorizon {horizon} days:\")\n",
    "\n",
    "    # Get CRPS errors for all models at this horizon\n",
    "    model_errors = {}\n",
    "    for model in models:\n",
    "        subset = eval_df[(eval_df['model'] == model) & (eval_df['horizon'] == horizon)].sort_values('date')\n",
    "        if len(subset) > 0:\n",
    "            actual = subset['actual'].values\n",
    "            q_low = subset['q0.1'].values\n",
    "            q_med = subset['q0.5'].values\n",
    "            q_high = subset['q0.9'].values\n",
    "            errors = crps_quantile(actual, q_low, q_med, q_high)\n",
    "            model_errors[model] = errors\n",
    "\n",
    "    # Compare all pairs\n",
    "    for i, model1 in enumerate(models):\n",
    "        for model2 in models[i + 1:]:\n",
    "            if model1 in model_errors and model2 in model_errors:\n",
    "                # Align dates\n",
    "                dates1 = eval_df[(eval_df['model'] == model1) & (eval_df['horizon'] == horizon)].sort_values('date')['date'].values\n",
    "                dates2 = eval_df[(eval_df['model'] == model2) & (eval_df['horizon'] == horizon)].sort_values('date')['date'].values\n",
    "\n",
    "                # Find common dates\n",
    "                common_dates = np.intersect1d(dates1, dates2)\n",
    "\n",
    "                if len(common_dates) > 0:\n",
    "                    idx1 = np.isin(dates1, common_dates)\n",
    "                    idx2 = np.isin(dates2, common_dates)\n",
    "\n",
    "                    err1 = model_errors[model1][idx1]\n",
    "                    err2 = model_errors[model2][idx2]\n",
    "\n",
    "                    dm_stat, p_value = diebold_mariano_test(err1, err2)\n",
    "\n",
    "                    mean_err1 = np.mean(err1)\n",
    "                    mean_err2 = np.mean(err2)\n",
    "\n",
    "                    result = {\n",
    "                        'horizon': horizon,\n",
    "                        'model1': model1,\n",
    "                        'model2': model2,\n",
    "                        'mean_crps1': mean_err1,\n",
    "                        'mean_crps2': mean_err2,\n",
    "                        'dm_statistic': dm_stat,\n",
    "                        'p_value': p_value,\n",
    "                        'significant_5pct': p_value < 0.05 if not np.isnan(p_value) else False\n",
    "                    }\n",
    "\n",
    "                    dm_results.append(result)\n",
    "\n",
    "                    sig_marker = '***' if p_value < 0.01 else '**' if p_value < 0.05 else '*' if p_value < 0.1 else ''\n",
    "                    better = model1 if mean_err1 < mean_err2 else model2\n",
    "                    print(f\"  {model1} vs {model2}: DM={dm_stat:.2f}, p={p_value:.4f} {sig_marker} (better: {better})\")\n",
    "\n",
    "dm_df = pd.DataFrame(dm_results)\n",
    "print(\"\\nDiebold-Mariano Test Results:\")\n",
    "print(dm_df.to_string(index=False))"
   ]
  },
  {
   "cell_type": "markdown",
   "metadata": {},
   "source": [
    "## Save Results"
   ]
  },
  {
   "cell_type": "code",
   "execution_count": 13,
   "metadata": {
    "execution": {
     "iopub.execute_input": "2025-10-17T10:02:42.776541Z",
     "iopub.status.busy": "2025-10-17T10:02:42.776408Z",
     "iopub.status.idle": "2025-10-17T10:02:42.781631Z",
     "shell.execute_reply": "2025-10-17T10:02:42.780960Z"
    }
   },
   "outputs": [
    {
     "name": "stdout",
     "output_type": "stream",
     "text": [
      "✅ Saved summary.csv\n",
      "✅ Saved dm_tests.csv\n"
     ]
    }
   ],
   "source": [
    "# Save metrics summary\n",
    "metrics_df.to_csv(results_dir / 'summary.csv', index=False)\n",
    "print(f\"✅ Saved summary.csv\")\n",
    "\n",
    "# Save DM test results\n",
    "dm_df.to_csv(results_dir / 'dm_tests.csv', index=False)\n",
    "print(f\"✅ Saved dm_tests.csv\")"
   ]
  },
  {
   "cell_type": "markdown",
   "metadata": {},
   "source": [
    "## Diebold-Mariano Matrix Visualization"
   ]
  },
  {
   "cell_type": "code",
   "execution_count": 14,
   "metadata": {
    "execution": {
     "iopub.execute_input": "2025-10-17T10:02:42.783053Z",
     "iopub.status.busy": "2025-10-17T10:02:42.782939Z",
     "iopub.status.idle": "2025-10-17T10:02:43.724970Z",
     "shell.execute_reply": "2025-10-17T10:02:43.724187Z"
    }
   },
   "outputs": [
    {
     "name": "stdout",
     "output_type": "stream",
     "text": [
      "✅ Saved dm_matrix.png\n"
     ]
    },
    {
     "data": {
      "image/png": "[encoded data removed]",
      "text/plain": [
       "<Figure size 2400x1000 with 3 Axes>"
      ]
     },
     "metadata": {},
     "output_type": "display_data"
    }
   ],
   "source": [
    "# Create DM matrix heatmap for each horizon\n",
    "n_horizons = len(horizons)\n",
    "\n",
    "# Define model colors for consistency with report (7 models)\n",
    "model_colors = {\n",
    "    'Chronos_Tiny': '#1f77b4',           # Blue\n",
    "    'TabPFN_TS': '#ff7f0e',              # Orange\n",
    "    'TabPFN_Enhanced': '#ff9800',        # Light orange\n",
    "    'SARIMA_Baseline': '#e57373',        # Light red\n",
    "    'SARIMA_Optimized': '#d32f2f',       # Dark red\n",
    "    'LightGBM_Baseline': '#81c784',      # Light green\n",
    "    'LightGBM_Optimized': '#388e3c'      # Dark green\n",
    "}\n",
    "\n",
    "# Determine subplot layout based on number of horizons\n",
    "if n_horizons == 1:\n",
    "    fig, axes = plt.subplots(1, 1, figsize=(12, 10), constrained_layout=True)\n",
    "    axes = [axes]\n",
    "elif n_horizons == 2:\n",
    "    fig, axes = plt.subplots(1, 2, figsize=(24, 10), constrained_layout=True)\n",
    "elif n_horizons == 3:\n",
    "    fig, axes = plt.subplots(1, 3, figsize=(30, 10), constrained_layout=True)\n",
    "else:  # 4 horizons\n",
    "    fig, axes = plt.subplots(2, 2, figsize=(20, 18), constrained_layout=True)\n",
    "    axes = axes.flatten()\n",
    "\n",
    "for idx, horizon in enumerate(horizons):\n",
    "    ax = axes[idx]\n",
    "\n",
    "    # Create matrix\n",
    "    n_models = len(models)\n",
    "    dm_matrix = np.zeros((n_models, n_models))\n",
    "    sig_matrix = np.zeros((n_models, n_models))\n",
    "\n",
    "    for i, model1 in enumerate(models):\n",
    "        for j, model2 in enumerate(models):\n",
    "            if i == j:\n",
    "                dm_matrix[i, j] = 0\n",
    "                continue\n",
    "\n",
    "            # Find DM test result\n",
    "            result = dm_df[\n",
    "                (dm_df['horizon'] == horizon) &\n",
    "                ((dm_df['model1'] == model1) & (dm_df['model2'] == model2) |\n",
    "                 (dm_df['model1'] == model2) & (dm_df['model2'] == model1))\n",
    "            ]\n",
    "\n",
    "            if len(result) > 0:\n",
    "                row = result.iloc[0]\n",
    "                # Store DM statistic (negative means model1 better)\n",
    "                if row['model1'] == model1:\n",
    "                    dm_matrix[i, j] = row['dm_statistic']\n",
    "                else:\n",
    "                    dm_matrix[i, j] = -row['dm_statistic']\n",
    "\n",
    "                if row['p_value'] < 0.05:\n",
    "                    sig_matrix[i, j] = 1\n",
    "\n",
    "    # Plot heatmap\n",
    "    im = ax.imshow(dm_matrix, cmap='RdYlGn_r', aspect='auto', vmin=-3, vmax=3)\n",
    "\n",
    "    # Add text annotations (smaller font for 7x7 matrix)\n",
    "    for i in range(n_models):\n",
    "        for j in range(n_models):\n",
    "            if i != j:\n",
    "                text = f\"{dm_matrix[i, j]:.1f}\"\n",
    "                if sig_matrix[i, j]:\n",
    "                    text += \"*\"\n",
    "                ax.text(j, i, text, ha='center', va='center',\n",
    "                        color='white' if abs(dm_matrix[i, j]) > 1.5 else 'black',\n",
    "                        fontsize=7, weight='bold' if sig_matrix[i, j] else 'normal')\n",
    "\n",
    "    ax.set_xticks(range(n_models))\n",
    "    ax.set_yticks(range(n_models))\n",
    "\n",
    "    # Format model labels for display (more compact for 7 models)\n",
    "    model_labels = []\n",
    "    for m in models:\n",
    "        if m == 'SARIMA_Baseline':\n",
    "            model_labels.append('SARIMA\\nBaseline')\n",
    "        elif m == 'SARIMA_Optimized':\n",
    "            model_labels.append('SARIMA\\nOptimized')\n",
    "        elif m == 'LightGBM_Baseline':\n",
    "            model_labels.append('LightGBM\\nBaseline')\n",
    "        elif m == 'LightGBM_Optimized':\n",
    "            model_labels.append('LightGBM\\nOptimized')\n",
    "        elif m == 'TabPFN_Enhanced':\n",
    "            model_labels.append('TabPFN\\nEnhanced')\n",
    "        else:\n",
    "            model_labels.append(m.replace('_', '\\n'))\n",
    "\n",
    "    ax.set_xticklabels(model_labels, rotation=45, ha='right', fontsize=7)\n",
    "    ax.set_yticklabels(model_labels, fontsize=7)\n",
    "    ax.set_title(f'Horizon {horizon} days\\n(negative = row model better)', fontsize=11, weight='bold')\n",
    "    ax.set_xlabel('Model 2', fontsize=9)\n",
    "    ax.set_ylabel('Model 1', fontsize=9)\n",
    "\n",
    "# Add colorbar to the right side of the figure\n",
    "fig.colorbar(im, ax=axes, label='DM Statistic (* = p < 0.05)',\n",
    "             orientation='vertical', fraction=0.046, pad=0.04)\n",
    "\n",
    "plt.savefig(figures_dir / 'dm_matrix.png', dpi=150, bbox_inches='tight')\n",
    "print(f\"✅ Saved dm_matrix.png\")\n",
    "plt.show()"
   ]
  },
  {
   "cell_type": "markdown",
   "metadata": {},
   "source": [
    "## Summary Statistics"
   ]
  },
  {
   "cell_type": "code",
   "execution_count": 15,
   "metadata": {
    "execution": {
     "iopub.execute_input": "2025-10-17T10:02:43.726288Z",
     "iopub.status.busy": "2025-10-17T10:02:43.726152Z",
     "iopub.status.idle": "2025-10-17T10:02:43.731495Z",
     "shell.execute_reply": "2025-10-17T10:02:43.730262Z"
    }
   },
   "outputs": [
    {
     "name": "stdout",
     "output_type": "stream",
     "text": [
      "\n",
      "============================================================\n",
      "OVERALL RANKINGS (Average Rank Across Horizons)\n",
      "============================================================\n",
      "\n",
      "MAPE:\n",
      "  1. TabPFN_Enhanced: 28.99\n",
      "  2. Chronos_Tiny: 31.55\n",
      "  3. LightGBM_Optimized: 39.75\n",
      "  4. TabPFN_TS: 39.91\n",
      "  5. LightGBM_Baseline: 43.74\n",
      "  6. SARIMA_Optimized: 50.48\n",
      "  7. SARIMA_Baseline: 67.56\n",
      "\n",
      "MASE:\n",
      "  1. Chronos_Tiny: 0.49\n",
      "  2. SARIMA_Optimized: 0.52\n",
      "  3. TabPFN_Enhanced: 0.52\n",
      "  4. LightGBM_Optimized: 0.55\n",
      "  5. TabPFN_TS: 0.62\n",
      "  6. LightGBM_Baseline: 0.64\n",
      "  7. SARIMA_Baseline: 1.09\n",
      "\n",
      "CRPS:\n",
      "  1. Chronos_Tiny: 2.65\n",
      "  2. LightGBM_Optimized: 2.76\n",
      "  3. TabPFN_Enhanced: 3.04\n",
      "  4. SARIMA_Optimized: 3.19\n",
      "  5. LightGBM_Baseline: 3.22\n",
      "  6. TabPFN_TS: 3.37\n",
      "  7. SARIMA_Baseline: 5.27\n"
     ]
    }
   ],
   "source": [
    "# Overall rankings (average rank across horizons)\n",
    "print(\"\\n\" + \"=\" * 60)\n",
    "print(\"OVERALL RANKINGS (Average Rank Across Horizons)\")\n",
    "print(\"=\" * 60)\n",
    "\n",
    "for metric in ['MAPE', 'MASE', 'CRPS']:\n",
    "    print(f\"\\n{metric}:\")\n",
    "    ranks = metrics_df.groupby('model')[metric].mean().sort_values()\n",
    "    for rank, (model, value) in enumerate(ranks.items(), 1):\n",
    "        print(f\"  {rank}. {model}: {value:.2f}\")"
   ]
  },
  {
   "cell_type": "code",
   "execution_count": 16,
   "metadata": {
    "execution": {
     "iopub.execute_input": "2025-10-17T10:02:43.732715Z",
     "iopub.status.busy": "2025-10-17T10:02:43.732597Z",
     "iopub.status.idle": "2025-10-17T10:02:43.738603Z",
     "shell.execute_reply": "2025-10-17T10:02:43.737677Z"
    }
   },
   "outputs": [
    {
     "name": "stdout",
     "output_type": "stream",
     "text": [
      "\n",
      "============================================================\n",
      "BEST MODEL BY HORIZON AND METRIC\n",
      "============================================================\n",
      "\n",
      "Horizon 7 days:\n",
      "  MAPE: TabPFN_Enhanced (14.14)\n",
      "  MASE: TabPFN_Enhanced (0.18)\n",
      "  CRPS: TabPFN_Enhanced (1.16)\n",
      "  Coverage: TabPFN_Enhanced (79.2%)\n",
      "\n",
      "Horizon 28 days:\n",
      "  MAPE: TabPFN_Enhanced (43.84)\n",
      "  MASE: Chronos_Tiny (0.77)\n",
      "  CRPS: LightGBM_Optimized (4.11)\n",
      "  Coverage: SARIMA_Optimized (82.6%)\n"
     ]
    }
   ],
   "source": [
    "# Best model by horizon and metric\n",
    "print(\"\\n\" + \"=\" * 60)\n",
    "print(\"BEST MODEL BY HORIZON AND METRIC\")\n",
    "print(\"=\" * 60)\n",
    "\n",
    "for horizon in horizons:\n",
    "    print(f\"\\nHorizon {horizon} days:\")\n",
    "    subset = metrics_df[metrics_df['horizon'] == horizon].copy()\n",
    "\n",
    "    for metric in ['MAPE', 'MASE', 'CRPS']:\n",
    "        best_row = subset.loc[subset[metric].idxmin()]\n",
    "        print(f\"  {metric}: {best_row['model']} ({best_row[metric]:.2f})\")\n",
    "\n",
    "    # Coverage closest to 80%\n",
    "    subset['coverage_diff'] = np.abs(subset['Coverage_80'] - 80)\n",
    "    best_coverage = subset.loc[subset['coverage_diff'].idxmin()]\n",
    "    print(f\"  Coverage: {best_coverage['model']} ({best_coverage['Coverage_80']:.1f}%)\")"
   ]
  },
  {
   "cell_type": "markdown",
   "metadata": {},
   "source": [
    "## Evaluation Complete\n",
    "\n",
    "This notebook evaluates 7 models:\n",
    "- **Foundation Models:** Chronos-Tiny (zero-shot)\n",
    "- **TabPFN Variants:** TabPFN-TS (baseline univariate), TabPFN-Enhanced (+ calendar features)\n",
    "- **SARIMA Variants:** SARIMA_Baseline (fixed order 1,0,1), SARIMA_Optimized (AutoARIMA)\n",
    "- **LightGBM Variants:** LightGBM_Baseline (default hyperparameters), LightGBM_Optimized (Optuna tuning)\n",
    "\n",
    "Key outputs:\n",
    "- `results/summary.csv`: All metrics by model and horizon (7 models × 2 horizons × 5 metrics)\n",
    "- `results/dm_tests.csv`: Diebold-Mariano statistical test results (all pairs)\n",
    "- `results/figures/dm_matrix.png`: Statistical significance heatmap (7×7 for each horizon)\n",
    "\n",
    "**Key Findings:**\n",
    "1. **Optimization impact:** Direct comparison of baseline vs optimized shows quantifiable improvement\n",
    "2. **Feature engineering impact:** TabPFN_Enhanced demonstrates the value of calendar features\n",
    "3. **Model-task alignment:** Foundation models need appropriate inputs (features vs zero-shot)\n",
    "4. **Statistical significance:** DM tests reveal which differences are meaningful\n",
    "\n",
    "**Analysis:**\n",
    "- **Baseline vs Optimized:** summary.csv now includes both versions for direct comparison\n",
    "- **Foundation models:** Chronos performs well zero-shot; TabPFN benefits from features\n",
    "- **Statistical tests:** DM matrix shows pairwise comparisons with significance markers\n",
    "\n",
    "Next: Run [04_report.ipynb](04_report.ipynb) for visualizations"
   ]
  }
 ],
 "metadata": {
  "kernelspec": {
   "display_name": "time-series-flu",
   "language": "python",
   "name": "python3"
  },
  "language_info": {
   "codemirror_mode": {
    "name": "ipython",
    "version": 3
   },
   "file_extension": ".py",
   "mimetype": "text/x-python",
   "name": "python",
   "nbconvert_exporter": "python",
   "pygments_lexer": "ipython3",
   "version": "3.12.3"
  }
 },
 "nbformat": 4,
 "nbformat_minor": 4
}
