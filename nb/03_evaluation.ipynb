{
 "cells": [
  {
   "cell_type": "markdown",
   "metadata": {},
   "source": [
    "# 03 - Model Evaluation\n",
    "\n",
    "This notebook:\n",
    "- Loads forecast results from all models\n",
    "- Calculates point forecast metrics (MAPE, sMAPE, MASE)\n",
    "- Calculates probabilistic metrics (CRPS, coverage)\n",
    "- Runs Diebold-Mariano tests for statistical significance\n",
    "- Generates summary tables and visualizations"
   ]
  },
  {
   "cell_type": "code",
   "execution_count": 2,
   "metadata": {},
   "outputs": [],
   "source": [
    "import pandas as pd\n",
    "import numpy as np\n",
    "import matplotlib.pyplot as plt\n",
    "import seaborn as sns\n",
    "from pathlib import Path\n",
    "from scipy import stats\n",
    "\n",
    "np.random.seed(42)"
   ]
  },
  {
   "cell_type": "markdown",
   "metadata": {},
   "source": [
    "## Load Data"
   ]
  },
  {
   "cell_type": "code",
   "execution_count": 3,
   "metadata": {},
   "outputs": [],
   "source": [
    "project_root = Path.cwd().parent\n",
    "data_dir = project_root / 'data'\n",
    "results_dir = project_root / 'results'\n",
    "forecasts_dir = results_dir / 'forecasts'\n",
    "figures_dir = results_dir / 'figures'\n",
    "\n",
    "figures_dir.mkdir(parents=True, exist_ok=True)"
   ]
  },
  {
   "cell_type": "code",
   "execution_count": 4,
   "metadata": {},
   "outputs": [
    {
     "name": "stdout",
     "output_type": "stream",
     "text": [
      "Actual data: 1078 observations from 2022-07-04 00:00:00 to 2025-06-15 00:00:00\n"
     ]
    }
   ],
   "source": [
    "# Load actual data\n",
    "flu_series = pd.read_pickle(data_dir / 'flu_daily_clean.pkl')\n",
    "print(f\"Actual data: {len(flu_series)} observations from {flu_series.index.min()} to {flu_series.index.max()}\")"
   ]
  },
  {
   "cell_type": "code",
   "execution_count": 5,
   "metadata": {},
   "outputs": [
    {
     "name": "stdout",
     "output_type": "stream",
     "text": [
      "Found 4 forecast files:\n",
      "  - lightgbm.parquet\n",
      "  - tabpfn.parquet\n",
      "  - sarima_fourier.parquet\n",
      "  - chronos.parquet\n"
     ]
    }
   ],
   "source": [
    "# Load all forecast files\n",
    "forecast_files = list(forecasts_dir.glob('*.parquet'))\n",
    "print(f\"Found {len(forecast_files)} forecast files:\")\n",
    "for f in forecast_files:\n",
    "    print(f\"  - {f.name}\")"
   ]
  },
  {
   "cell_type": "code",
   "execution_count": 6,
   "metadata": {},
   "outputs": [
    {
     "name": "stdout",
     "output_type": "stream",
     "text": [
      "\n",
      "Combined forecasts shape: (188, 8)\n",
      "Models: ['LightGBM' 'TabPFN_TS' 'SARIMA_Fourier' 'Chronos_Tiny']\n",
      "Horizons: [7, 28]\n",
      "\n",
      "Sample:\n",
      "        date     origin  horizon     model      q0.1      q0.5      q0.9  \\\n",
      "0 2024-07-14 2024-07-08        7  LightGBM  0.619409  0.977886  1.241408   \n",
      "1 2024-08-04 2024-07-08       28  LightGBM  0.397663  0.977886  1.223350   \n",
      "2 2024-07-28 2024-07-22        7  LightGBM  1.049904  1.057262  1.242988   \n",
      "3 2024-08-18 2024-07-22       28  LightGBM  0.793196  1.178808  1.241748   \n",
      "4 2024-08-11 2024-08-05        7  LightGBM  0.541239  0.969314  1.262717   \n",
      "5 2024-09-01 2024-08-05       28  LightGBM  0.374443  0.864292  1.623490   \n",
      "6 2024-08-25 2024-08-19        7  LightGBM  0.655816  0.808571  0.914916   \n",
      "7 2024-09-15 2024-08-19       28  LightGBM  0.655816  0.808571  0.922201   \n",
      "8 2024-09-08 2024-09-02        7  LightGBM  0.684377  0.857531  1.130867   \n",
      "9 2024-09-29 2024-09-02       28  LightGBM  0.684377  0.857531  1.044520   \n",
      "\n",
      "   actual  \n",
      "0     0.8  \n",
      "1     0.9  \n",
      "2     1.3  \n",
      "3     0.8  \n",
      "4     0.9  \n",
      "5     1.0  \n",
      "6     0.7  \n",
      "7     1.1  \n",
      "8     1.3  \n",
      "9     1.7  \n"
     ]
    }
   ],
   "source": [
    "# Combine all forecasts\n",
    "forecasts_list = []\n",
    "for f in forecast_files:\n",
    "    df = pd.read_parquet(f)\n",
    "    forecasts_list.append(df)\n",
    "\n",
    "forecasts_df = pd.concat(forecasts_list, ignore_index=True)\n",
    "print(f\"\\nCombined forecasts shape: {forecasts_df.shape}\")\n",
    "print(f\"Models: {forecasts_df['model'].unique()}\")\n",
    "print(f\"Horizons: {sorted(forecasts_df['horizon'].unique())}\")\n",
    "print(f\"\\nSample:\")\n",
    "print(forecasts_df.head(10))"
   ]
  },
  {
   "cell_type": "markdown",
   "metadata": {},
   "source": [
    "## Prepare Evaluation Data"
   ]
  },
  {
   "cell_type": "code",
   "execution_count": 7,
   "metadata": {},
   "outputs": [
    {
     "name": "stdout",
     "output_type": "stream",
     "text": [
      "Evaluation data shape: (188, 8)\n",
      "Missing actuals: 0\n",
      "\n",
      "Data range: 2024-07-14 00:00:00 to 2025-06-08 00:00:00\n",
      "Number of forecasts by model:\n",
      "model\n",
      "Chronos_Tiny      47\n",
      "LightGBM          47\n",
      "SARIMA_Fourier    47\n",
      "TabPFN_TS         47\n",
      "dtype: int64\n"
     ]
    }
   ],
   "source": [
    "# The forecast files already contain the actual values\n",
    "# Just check for any missing actuals\n",
    "eval_df = forecasts_df.copy()\n",
    "print(f\"Evaluation data shape: {eval_df.shape}\")\n",
    "print(f\"Missing actuals: {eval_df['actual'].isna().sum()}\")\n",
    "\n",
    "# Drop rows where we don't have actuals (shouldn't be any)\n",
    "if eval_df['actual'].isna().sum() > 0:\n",
    "    eval_df = eval_df.dropna(subset=['actual'])\n",
    "    print(f\"After dropping missing actuals: {eval_df.shape}\")\n",
    "\n",
    "print(f\"\\nData range: {eval_df['date'].min()} to {eval_df['date'].max()}\")\n",
    "print(f\"Number of forecasts by model:\")\n",
    "print(eval_df.groupby('model').size())"
   ]
  },
  {
   "cell_type": "markdown",
   "metadata": {},
   "source": [
    "## Metric Functions"
   ]
  },
  {
   "cell_type": "code",
   "execution_count": 8,
   "metadata": {},
   "outputs": [],
   "source": [
    "def mape(actual, predicted):\n",
    "    \"\"\"Mean Absolute Percentage Error\"\"\"\n",
    "    return np.mean(np.abs((actual - predicted) / actual)) * 100\n",
    "\n",
    "\n",
    "def smape(actual, predicted):\n",
    "    \"\"\"Symmetric Mean Absolute Percentage Error\"\"\"\n",
    "    return np.mean(2.0 * np.abs(predicted - actual) / (np.abs(actual) + np.abs(predicted))) * 100\n",
    "\n",
    "\n",
    "def mase(actual, predicted, seasonal_period=365):\n",
    "    \"\"\"Mean Absolute Scaled Error (scaled by seasonal naive forecast)\"\"\"\n",
    "    # Find the training data to compute naive seasonal error\n",
    "    # We'll use the full series up to the earliest forecast date\n",
    "    train_data = flu_series.loc[:eval_df['origin'].min()]\n",
    "\n",
    "    # Seasonal naive MAE on training set\n",
    "    if len(train_data) > seasonal_period:\n",
    "        naive_errors = np.abs(train_data.values[seasonal_period:] - train_data.values[:-seasonal_period])\n",
    "        naive_mae = np.mean(naive_errors)\n",
    "    else:\n",
    "        # Fallback to simple naive if not enough data\n",
    "        naive_errors = np.abs(train_data.diff().dropna())\n",
    "        naive_mae = np.mean(naive_errors)\n",
    "\n",
    "    mae = np.mean(np.abs(actual - predicted))\n",
    "    return mae / naive_mae\n",
    "\n",
    "\n",
    "def crps_quantile(actual, q_low, q_med, q_high):\n",
    "    \"\"\"Continuous Ranked Probability Score from quantiles\n",
    "\n",
    "    Approximation using 3 quantiles (0.1, 0.5, 0.9)\n",
    "    CRPS = integral of (F(x) - 1{y <= x})^2 dx\n",
    "    \"\"\"\n",
    "    # Simple approximation: penalize distance to median + interval width\n",
    "    point_error = np.abs(actual - q_med)\n",
    "    interval_width = q_high - q_low\n",
    "\n",
    "    # Weight point error more heavily, add penalty for wide intervals\n",
    "    return point_error + 0.1 * interval_width\n",
    "\n",
    "\n",
    "def coverage(actual, q_low, q_high):\n",
    "    \"\"\"Percentage of actuals within prediction interval\"\"\"\n",
    "    return np.mean((actual >= q_low) & (actual <= q_high)) * 100"
   ]
  },
  {
   "cell_type": "markdown",
   "metadata": {},
   "source": [
    "## Calculate Metrics"
   ]
  },
  {
   "cell_type": "code",
   "execution_count": 9,
   "metadata": {},
   "outputs": [
    {
     "name": "stdout",
     "output_type": "stream",
     "text": [
      "\n",
      "Metrics Summary:\n",
      "         model  horizon  n_forecasts      MAPE     sMAPE     MASE     CRPS  Coverage_80\n",
      "      LightGBM        7           24 18.649180 18.538976 0.286662 1.538541    50.000000\n",
      "      LightGBM       28           23 68.831980 57.556026 0.985594 4.909233    26.086957\n",
      "     TabPFN_TS        7           24 33.548724 39.186586 0.370339 2.227154    58.333333\n",
      "     TabPFN_TS       28           23 46.271920 63.007671 0.872181 4.509701    60.869565\n",
      "SARIMA_Fourier        7           24 65.177785 76.415992 1.006944 4.785015    41.666667\n",
      "SARIMA_Fourier       28           23 69.948019 83.730633 1.170388 5.759718    47.826087\n",
      "  Chronos_Tiny        7           24 15.096814 15.237444 0.219267 1.186668    66.666667\n",
      "  Chronos_Tiny       28           23 47.997534 41.625952 0.766558 4.119184    69.565217\n"
     ]
    }
   ],
   "source": [
    "# Calculate all metrics by model and horizon\n",
    "metrics_list = []\n",
    "\n",
    "for model in eval_df['model'].unique():\n",
    "    for horizon in sorted(eval_df['horizon'].unique()):\n",
    "        subset = eval_df[(eval_df['model'] == model) & (eval_df['horizon'] == horizon)]\n",
    "\n",
    "        if len(subset) == 0:\n",
    "            continue\n",
    "\n",
    "        actual = subset['actual'].values\n",
    "        q_low = subset['q0.1'].values\n",
    "        q_med = subset['q0.5'].values\n",
    "        q_high = subset['q0.9'].values\n",
    "\n",
    "        metrics = {\n",
    "            'model': model,\n",
    "            'horizon': horizon,\n",
    "            'n_forecasts': len(subset),\n",
    "            'MAPE': mape(actual, q_med),\n",
    "            'sMAPE': smape(actual, q_med),\n",
    "            'MASE': mase(actual, q_med),\n",
    "            'CRPS': np.mean(crps_quantile(actual, q_low, q_med, q_high)),\n",
    "            'Coverage_80': coverage(actual, q_low, q_high)\n",
    "        }\n",
    "\n",
    "        metrics_list.append(metrics)\n",
    "\n",
    "metrics_df = pd.DataFrame(metrics_list)\n",
    "print(\"\\nMetrics Summary:\")\n",
    "print(metrics_df.to_string(index=False))"
   ]
  },
  {
   "cell_type": "code",
   "execution_count": 10,
   "metadata": {},
   "outputs": [
    {
     "name": "stdout",
     "output_type": "stream",
     "text": [
      "\n",
      "MAPE by Model and Horizon:\n",
      "horizon            7      28\n",
      "model                       \n",
      "Chronos_Tiny    15.10  48.00\n",
      "LightGBM        18.65  68.83\n",
      "SARIMA_Fourier  65.18  69.95\n",
      "TabPFN_TS       33.55  46.27\n",
      "\n",
      "sMAPE by Model and Horizon:\n",
      "horizon            7      28\n",
      "model                       \n",
      "Chronos_Tiny    15.24  41.63\n",
      "LightGBM        18.54  57.56\n",
      "SARIMA_Fourier  76.42  83.73\n",
      "TabPFN_TS       39.19  63.01\n",
      "\n",
      "MASE by Model and Horizon:\n",
      "horizon           7     28\n",
      "model                     \n",
      "Chronos_Tiny    0.22  0.77\n",
      "LightGBM        0.29  0.99\n",
      "SARIMA_Fourier  1.01  1.17\n",
      "TabPFN_TS       0.37  0.87\n",
      "\n",
      "CRPS by Model and Horizon:\n",
      "horizon           7     28\n",
      "model                     \n",
      "Chronos_Tiny    1.19  4.12\n",
      "LightGBM        1.54  4.91\n",
      "SARIMA_Fourier  4.79  5.76\n",
      "TabPFN_TS       2.23  4.51\n",
      "\n",
      "Coverage_80 by Model and Horizon:\n",
      "horizon            7      28\n",
      "model                       \n",
      "Chronos_Tiny    66.67  69.57\n",
      "LightGBM        50.00  26.09\n",
      "SARIMA_Fourier  41.67  47.83\n",
      "TabPFN_TS       58.33  60.87\n"
     ]
    }
   ],
   "source": [
    "# Pivot for easier comparison\n",
    "for metric in ['MAPE', 'sMAPE', 'MASE', 'CRPS', 'Coverage_80']:\n",
    "    print(f\"\\n{metric} by Model and Horizon:\")\n",
    "    pivot = metrics_df.pivot(index='model', columns='horizon', values=metric)\n",
    "    print(pivot.round(2))"
   ]
  },
  {
   "cell_type": "markdown",
   "metadata": {},
   "source": [
    "## Diebold-Mariano Tests\n",
    "\n",
    "Test if differences in CRPS between models are statistically significant.\n",
    "Null hypothesis: two forecasts have equal accuracy."
   ]
  },
  {
   "cell_type": "code",
   "execution_count": 11,
   "metadata": {},
   "outputs": [],
   "source": [
    "def diebold_mariano_test(errors1, errors2):\n",
    "    \"\"\"Diebold-Mariano test for forecast accuracy comparison\n",
    "\n",
    "    H0: errors1 and errors2 have equal accuracy\n",
    "    Returns: (statistic, p_value)\n",
    "\n",
    "    Negative statistic means errors1 < errors2 (model1 better)\n",
    "    \"\"\"\n",
    "    d = errors1 - errors2\n",
    "\n",
    "    if len(d) < 2:\n",
    "        return np.nan, np.nan\n",
    "\n",
    "    # Mean difference\n",
    "    d_mean = np.mean(d)\n",
    "\n",
    "    # Variance of d (accounting for autocorrelation)\n",
    "    d_var = np.var(d, ddof=1)\n",
    "\n",
    "    if d_var == 0:\n",
    "        return np.nan, np.nan\n",
    "\n",
    "    # DM statistic\n",
    "    dm_stat = d_mean / np.sqrt(d_var / len(d))\n",
    "\n",
    "    # Two-tailed p-value\n",
    "    p_value = 2 * (1 - stats.norm.cdf(np.abs(dm_stat)))\n",
    "\n",
    "    return dm_stat, p_value"
   ]
  },
  {
   "cell_type": "code",
   "execution_count": 12,
   "metadata": {},
   "outputs": [
    {
     "name": "stdout",
     "output_type": "stream",
     "text": [
      "\n",
      "Horizon 7 days:\n",
      "  Chronos_Tiny vs LightGBM: DM=-1.08, p=0.2819  (better: Chronos_Tiny)\n",
      "  Chronos_Tiny vs SARIMA_Fourier: DM=-4.14, p=0.0000 *** (better: Chronos_Tiny)\n",
      "  Chronos_Tiny vs TabPFN_TS: DM=-2.77, p=0.0056 *** (better: Chronos_Tiny)\n",
      "  LightGBM vs SARIMA_Fourier: DM=-4.50, p=0.0000 *** (better: LightGBM)\n",
      "  LightGBM vs TabPFN_TS: DM=-1.23, p=0.2176  (better: LightGBM)\n",
      "  SARIMA_Fourier vs TabPFN_TS: DM=3.02, p=0.0025 *** (better: TabPFN_TS)\n",
      "\n",
      "Horizon 28 days:\n",
      "  Chronos_Tiny vs LightGBM: DM=-1.36, p=0.1740  (better: Chronos_Tiny)\n",
      "  Chronos_Tiny vs SARIMA_Fourier: DM=-1.41, p=0.1600  (better: Chronos_Tiny)\n",
      "  Chronos_Tiny vs TabPFN_TS: DM=-0.39, p=0.6957  (better: Chronos_Tiny)\n",
      "  LightGBM vs SARIMA_Fourier: DM=-0.93, p=0.3522  (better: LightGBM)\n",
      "  LightGBM vs TabPFN_TS: DM=0.41, p=0.6810  (better: TabPFN_TS)\n",
      "  SARIMA_Fourier vs TabPFN_TS: DM=1.21, p=0.2271  (better: TabPFN_TS)\n",
      "\n",
      "Diebold-Mariano Test Results:\n",
      " horizon         model1         model2  mean_crps1  mean_crps2  dm_statistic  p_value  significant_5pct\n",
      "       7   Chronos_Tiny       LightGBM    1.186668    1.538541     -1.076122 0.281873             False\n",
      "       7   Chronos_Tiny SARIMA_Fourier    1.186668    4.785015     -4.137286 0.000035              True\n",
      "       7   Chronos_Tiny      TabPFN_TS    1.186668    2.227154     -2.768035 0.005640              True\n",
      "       7       LightGBM SARIMA_Fourier    1.538541    4.785015     -4.497402 0.000007              True\n",
      "       7       LightGBM      TabPFN_TS    1.538541    2.227154     -1.232976 0.217585             False\n",
      "       7 SARIMA_Fourier      TabPFN_TS    4.785015    2.227154      3.023605 0.002498              True\n",
      "      28   Chronos_Tiny       LightGBM    4.119184    4.909233     -1.359522 0.173981             False\n",
      "      28   Chronos_Tiny SARIMA_Fourier    4.119184    5.759718     -1.405158 0.159974             False\n",
      "      28   Chronos_Tiny      TabPFN_TS    4.119184    4.509701     -0.391128 0.695703             False\n",
      "      28       LightGBM SARIMA_Fourier    4.909233    5.759718     -0.930336 0.352197             False\n",
      "      28       LightGBM      TabPFN_TS    4.909233    4.509701      0.411113 0.680990             False\n",
      "      28 SARIMA_Fourier      TabPFN_TS    5.759718    4.509701      1.207916 0.227080             False\n"
     ]
    }
   ],
   "source": [
    "# Compute DM tests for all model pairs by horizon\n",
    "models = sorted(eval_df['model'].unique())\n",
    "horizons = sorted(eval_df['horizon'].unique())\n",
    "\n",
    "dm_results = []\n",
    "\n",
    "for horizon in horizons:\n",
    "    print(f\"\\nHorizon {horizon} days:\")\n",
    "\n",
    "    # Get CRPS errors for all models at this horizon\n",
    "    model_errors = {}\n",
    "    for model in models:\n",
    "        subset = eval_df[(eval_df['model'] == model) & (eval_df['horizon'] == horizon)].sort_values('date')\n",
    "        if len(subset) > 0:\n",
    "            actual = subset['actual'].values\n",
    "            q_low = subset['q0.1'].values\n",
    "            q_med = subset['q0.5'].values\n",
    "            q_high = subset['q0.9'].values\n",
    "            errors = crps_quantile(actual, q_low, q_med, q_high)\n",
    "            model_errors[model] = errors\n",
    "\n",
    "    # Compare all pairs\n",
    "    for i, model1 in enumerate(models):\n",
    "        for model2 in models[i + 1:]:\n",
    "            if model1 in model_errors and model2 in model_errors:\n",
    "                # Align dates\n",
    "                dates1 = eval_df[(eval_df['model'] == model1) & (eval_df['horizon'] == horizon)].sort_values('date')['date'].values\n",
    "                dates2 = eval_df[(eval_df['model'] == model2) & (eval_df['horizon'] == horizon)].sort_values('date')['date'].values\n",
    "\n",
    "                # Find common dates\n",
    "                common_dates = np.intersect1d(dates1, dates2)\n",
    "\n",
    "                if len(common_dates) > 0:\n",
    "                    idx1 = np.isin(dates1, common_dates)\n",
    "                    idx2 = np.isin(dates2, common_dates)\n",
    "\n",
    "                    err1 = model_errors[model1][idx1]\n",
    "                    err2 = model_errors[model2][idx2]\n",
    "\n",
    "                    dm_stat, p_value = diebold_mariano_test(err1, err2)\n",
    "\n",
    "                    mean_err1 = np.mean(err1)\n",
    "                    mean_err2 = np.mean(err2)\n",
    "\n",
    "                    result = {\n",
    "                        'horizon': horizon,\n",
    "                        'model1': model1,\n",
    "                        'model2': model2,\n",
    "                        'mean_crps1': mean_err1,\n",
    "                        'mean_crps2': mean_err2,\n",
    "                        'dm_statistic': dm_stat,\n",
    "                        'p_value': p_value,\n",
    "                        'significant_5pct': p_value < 0.05 if not np.isnan(p_value) else False\n",
    "                    }\n",
    "\n",
    "                    dm_results.append(result)\n",
    "\n",
    "                    sig_marker = '***' if p_value < 0.01 else '**' if p_value < 0.05 else '*' if p_value < 0.1 else ''\n",
    "                    better = model1 if mean_err1 < mean_err2 else model2\n",
    "                    print(f\"  {model1} vs {model2}: DM={dm_stat:.2f}, p={p_value:.4f} {sig_marker} (better: {better})\")\n",
    "\n",
    "dm_df = pd.DataFrame(dm_results)\n",
    "print(\"\\nDiebold-Mariano Test Results:\")\n",
    "print(dm_df.to_string(index=False))"
   ]
  },
  {
   "cell_type": "markdown",
   "metadata": {},
   "source": [
    "## Save Results"
   ]
  },
  {
   "cell_type": "code",
   "execution_count": 13,
   "metadata": {},
   "outputs": [
    {
     "name": "stdout",
     "output_type": "stream",
     "text": [
      "✅ Saved summary.csv\n",
      "✅ Saved dm_tests.csv\n"
     ]
    }
   ],
   "source": [
    "# Save metrics summary\n",
    "metrics_df.to_csv(results_dir / 'summary.csv', index=False)\n",
    "print(f\"✅ Saved summary.csv\")\n",
    "\n",
    "# Save DM test results\n",
    "dm_df.to_csv(results_dir / 'dm_tests.csv', index=False)\n",
    "print(f\"✅ Saved dm_tests.csv\")"
   ]
  },
  {
   "cell_type": "markdown",
   "metadata": {},
   "source": [
    "## Diebold-Mariano Matrix Visualization"
   ]
  },
  {
   "cell_type": "code",
   "execution_count": 14,
   "metadata": {},
   "outputs": [
    {
     "name": "stdout",
     "output_type": "stream",
     "text": [
      "✅ Saved dm_matrix.png\n"
     ]
    },
    {
     "data": {
      "image/png": "[encoded data removed]",
      "text/plain": [
       "<Figure size 1600x600 with 3 Axes>"
      ]
     },
     "metadata": {},
     "output_type": "display_data"
    }
   ],
   "source": [
    "# Create DM matrix heatmap for each horizon\n",
    "n_horizons = len(horizons)\n",
    "\n",
    "# Determine subplot layout based on number of horizons\n",
    "if n_horizons == 1:\n",
    "    fig, axes = plt.subplots(1, 1, figsize=(8, 6), constrained_layout=True)\n",
    "    axes = [axes]\n",
    "elif n_horizons == 2:\n",
    "    fig, axes = plt.subplots(1, 2, figsize=(16, 6), constrained_layout=True)\n",
    "elif n_horizons == 3:\n",
    "    fig, axes = plt.subplots(1, 3, figsize=(20, 6), constrained_layout=True)\n",
    "else:  # 4 horizons\n",
    "    fig, axes = plt.subplots(2, 2, figsize=(14, 12), constrained_layout=True)\n",
    "    axes = axes.flatten()\n",
    "\n",
    "for idx, horizon in enumerate(horizons):\n",
    "    ax = axes[idx]\n",
    "\n",
    "    # Create matrix\n",
    "    n_models = len(models)\n",
    "    dm_matrix = np.zeros((n_models, n_models))\n",
    "    sig_matrix = np.zeros((n_models, n_models))\n",
    "\n",
    "    for i, model1 in enumerate(models):\n",
    "        for j, model2 in enumerate(models):\n",
    "            if i == j:\n",
    "                dm_matrix[i, j] = 0\n",
    "                continue\n",
    "\n",
    "            # Find DM test result\n",
    "            result = dm_df[\n",
    "                (dm_df['horizon'] == horizon) &\n",
    "                ((dm_df['model1'] == model1) & (dm_df['model2'] == model2) |\n",
    "                 (dm_df['model1'] == model2) & (dm_df['model2'] == model1))\n",
    "            ]\n",
    "\n",
    "            if len(result) > 0:\n",
    "                row = result.iloc[0]\n",
    "                # Store DM statistic (negative means model1 better)\n",
    "                if row['model1'] == model1:\n",
    "                    dm_matrix[i, j] = row['dm_statistic']\n",
    "                else:\n",
    "                    dm_matrix[i, j] = -row['dm_statistic']\n",
    "\n",
    "                if row['p_value'] < 0.05:\n",
    "                    sig_matrix[i, j] = 1\n",
    "\n",
    "    # Plot heatmap\n",
    "    im = ax.imshow(dm_matrix, cmap='RdYlGn_r', aspect='auto', vmin=-3, vmax=3)\n",
    "\n",
    "    # Add text annotations\n",
    "    for i in range(n_models):\n",
    "        for j in range(n_models):\n",
    "            if i != j:\n",
    "                text = f\"{dm_matrix[i, j]:.1f}\"\n",
    "                if sig_matrix[i, j]:\n",
    "                    text += \"*\"\n",
    "                ax.text(j, i, text, ha='center', va='center',\n",
    "                        color='white' if abs(dm_matrix[i, j]) > 1.5 else 'black',\n",
    "                        fontsize=10, weight='bold' if sig_matrix[i, j] else 'normal')\n",
    "\n",
    "    ax.set_xticks(range(n_models))\n",
    "    ax.set_yticks(range(n_models))\n",
    "    ax.set_xticklabels(models, rotation=45, ha='right', fontsize=10)\n",
    "    ax.set_yticklabels(models, fontsize=10)\n",
    "    ax.set_title(f'Horizon {horizon} days\\n(negative = row model better)', fontsize=11, weight='bold')\n",
    "    ax.set_xlabel('Model 2', fontsize=10)\n",
    "    ax.set_ylabel('Model 1', fontsize=10)\n",
    "\n",
    "# Add colorbar to the right side of the figure\n",
    "fig.colorbar(im, ax=axes, label='DM Statistic (* = p < 0.05)',\n",
    "             orientation='vertical', fraction=0.046, pad=0.04)\n",
    "\n",
    "plt.savefig(figures_dir / 'dm_matrix.png', dpi=150, bbox_inches='tight')\n",
    "print(f\"✅ Saved dm_matrix.png\")\n",
    "plt.show()"
   ]
  },
  {
   "cell_type": "markdown",
   "metadata": {},
   "source": [
    "## Summary Statistics"
   ]
  },
  {
   "cell_type": "code",
   "execution_count": 15,
   "metadata": {},
   "outputs": [
    {
     "name": "stdout",
     "output_type": "stream",
     "text": [
      "\n",
      "============================================================\n",
      "BEST MODEL BY HORIZON AND METRIC\n",
      "============================================================\n",
      "\n",
      "Horizon 7 days:\n",
      "  MAPE: Chronos_Tiny (15.10)\n",
      "  MASE: Chronos_Tiny (0.22)\n",
      "  CRPS: Chronos_Tiny (1.19)\n",
      "  Coverage: Chronos_Tiny (66.7%)\n",
      "\n",
      "Horizon 28 days:\n",
      "  MAPE: TabPFN_TS (46.27)\n",
      "  MASE: Chronos_Tiny (0.77)\n",
      "  CRPS: Chronos_Tiny (4.12)\n",
      "  Coverage: Chronos_Tiny (69.6%)\n"
     ]
    },
    {
     "name": "stderr",
     "output_type": "stream",
     "text": [
      "/tmp/ipykernel_85314/2947392542.py:15: SettingWithCopyWarning: \n",
      "A value is trying to be set on a copy of a slice from a DataFrame.\n",
      "Try using .loc[row_indexer,col_indexer] = value instead\n",
      "\n",
      "See the caveats in the documentation: https://pandas.pydata.org/pandas-docs/stable/user_guide/indexing.html#returning-a-view-versus-a-copy\n",
      "  subset['coverage_diff'] = np.abs(subset['Coverage_80'] - 80)\n",
      "/tmp/ipykernel_85314/2947392542.py:15: SettingWithCopyWarning: \n",
      "A value is trying to be set on a copy of a slice from a DataFrame.\n",
      "Try using .loc[row_indexer,col_indexer] = value instead\n",
      "\n",
      "See the caveats in the documentation: https://pandas.pydata.org/pandas-docs/stable/user_guide/indexing.html#returning-a-view-versus-a-copy\n",
      "  subset['coverage_diff'] = np.abs(subset['Coverage_80'] - 80)\n"
     ]
    }
   ],
   "source": [
    "# Best model by horizon and metric\n",
    "print(\"\\n\" + \"=\" * 60)\n",
    "print(\"BEST MODEL BY HORIZON AND METRIC\")\n",
    "print(\"=\" * 60)\n",
    "\n",
    "for horizon in horizons:\n",
    "    print(f\"\\nHorizon {horizon} days:\")\n",
    "    subset = metrics_df[metrics_df['horizon'] == horizon]\n",
    "\n",
    "    for metric in ['MAPE', 'MASE', 'CRPS']:\n",
    "        best_row = subset.loc[subset[metric].idxmin()]\n",
    "        print(f\"  {metric}: {best_row['model']} ({best_row[metric]:.2f})\")\n",
    "\n",
    "    # Coverage closest to 80%\n",
    "    subset['coverage_diff'] = np.abs(subset['Coverage_80'] - 80)\n",
    "    best_coverage = subset.loc[subset['coverage_diff'].idxmin()]\n",
    "    print(f\"  Coverage: {best_coverage['model']} ({best_coverage['Coverage_80']:.1f}%)\")"
   ]
  },
  {
   "cell_type": "code",
   "execution_count": 16,
   "metadata": {},
   "outputs": [
    {
     "name": "stdout",
     "output_type": "stream",
     "text": [
      "\n",
      "============================================================\n",
      "OVERALL RANKINGS (Average Rank Across Horizons)\n",
      "============================================================\n",
      "\n",
      "MAPE:\n",
      "  1. Chronos_Tiny: 31.55\n",
      "  2. TabPFN_TS: 39.91\n",
      "  3. LightGBM: 43.74\n",
      "  4. SARIMA_Fourier: 67.56\n",
      "\n",
      "MASE:\n",
      "  1. Chronos_Tiny: 0.49\n",
      "  2. TabPFN_TS: 0.62\n",
      "  3. LightGBM: 0.64\n",
      "  4. SARIMA_Fourier: 1.09\n",
      "\n",
      "CRPS:\n",
      "  1. Chronos_Tiny: 2.65\n",
      "  2. LightGBM: 3.22\n",
      "  3. TabPFN_TS: 3.37\n",
      "  4. SARIMA_Fourier: 5.27\n"
     ]
    }
   ],
   "source": [
    "# Overall rankings (average rank across horizons)\n",
    "print(\"\\n\" + \"=\" * 60)\n",
    "print(\"OVERALL RANKINGS (Average Rank Across Horizons)\")\n",
    "print(\"=\" * 60)\n",
    "\n",
    "for metric in ['MAPE', 'MASE', 'CRPS']:\n",
    "    print(f\"\\n{metric}:\")\n",
    "    ranks = metrics_df.groupby('model')[metric].mean().sort_values()\n",
    "    for rank, (model, value) in enumerate(ranks.items(), 1):\n",
    "        print(f\"  {rank}. {model}: {value:.2f}\")"
   ]
  },
  {
   "cell_type": "markdown",
   "metadata": {},
   "source": [
    "## Evaluation Complete\n",
    "\n",
    "Key outputs:\n",
    "- `results/summary.csv`: All metrics by model × horizon\n",
    "- `results/dm_tests.csv`: Diebold-Mariano statistical test results\n",
    "- `results/figures/dm_matrix.png`: Statistical significance heatmap\n",
    "\n",
    "Next: Run [04_report.ipynb](04_report.ipynb) for visualizations"
   ]
  }
 ],
 "metadata": {
  "kernelspec": {
   "display_name": "time-series-flu",
   "language": "python",
   "name": "python3"
  },
  "language_info": {
   "codemirror_mode": {
    "name": "ipython",
    "version": 3
   },
   "file_extension": ".py",
   "mimetype": "text/x-python",
   "name": "python",
   "nbconvert_exporter": "python",
   "pygments_lexer": "ipython3",
   "version": "3.12.3"
  }
 },
 "nbformat": 4,
 "nbformat_minor": 4
}
