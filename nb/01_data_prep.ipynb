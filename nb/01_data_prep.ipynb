{
 "cells": [
  {
   "cell_type": "markdown",
   "metadata": {},
   "source": [
    "# 01 Data Preparation\n",
    "\n",
    "Transform NHS flu test positivity CSV into datetime-indexed pandas Series.\n",
    "\n",
    "**Input:** `data/NHSdata_dailypercentace_flupositive.csv`  \n",
    "**Output:** `data/flu_daily_clean.pkl`\n",
    "\n",
    "**Quality checks:**\n",
    "- Parse dates with correct format (`'%d %B %Y'`)\n",
    "- Verify daily frequency with no gaps\n",
    "- Confirm data range and distribution"
   ]
  },
  {
   "cell_type": "code",
   "execution_count": 1,
   "metadata": {
    "execution": {
     "iopub.execute_input": "2025-10-15T12:35:14.621139Z",
     "iopub.status.busy": "2025-10-15T12:35:14.620890Z",
     "iopub.status.idle": "2025-10-15T12:35:15.192635Z",
     "shell.execute_reply": "2025-10-15T12:35:15.191295Z"
    }
   },
   "outputs": [],
   "source": [
    "import pandas as pd\n",
    "import numpy as np\n",
    "import matplotlib.pyplot as plt\n",
    "from pathlib import Path"
   ]
  },
  {
   "cell_type": "code",
   "execution_count": 2,
   "metadata": {
    "execution": {
     "iopub.execute_input": "2025-10-15T12:35:15.194430Z",
     "iopub.status.busy": "2025-10-15T12:35:15.194199Z",
     "iopub.status.idle": "2025-10-15T12:35:15.197082Z",
     "shell.execute_reply": "2025-10-15T12:35:15.196296Z"
    }
   },
   "outputs": [],
   "source": [
    "# Set random seed for reproducibility\n",
    "np.random.seed(42)"
   ]
  },
  {
   "cell_type": "code",
   "execution_count": 3,
   "metadata": {
    "execution": {
     "iopub.execute_input": "2025-10-15T12:35:15.198464Z",
     "iopub.status.busy": "2025-10-15T12:35:15.198333Z",
     "iopub.status.idle": "2025-10-15T12:35:15.200858Z",
     "shell.execute_reply": "2025-10-15T12:35:15.200251Z"
    }
   },
   "outputs": [],
   "source": [
    "# Define paths\n",
    "project_root = Path.cwd().parent\n",
    "data_dir = project_root / 'data'\n",
    "raw_file = data_dir / 'NHSdata_dailypercentace_flupositive.csv'\n",
    "output_file = data_dir / 'flu_daily_clean.pkl'"
   ]
  },
  {
   "cell_type": "markdown",
   "metadata": {},
   "source": [
    "## Load and Parse Data"
   ]
  },
  {
   "cell_type": "code",
   "execution_count": 4,
   "metadata": {
    "execution": {
     "iopub.execute_input": "2025-10-15T12:35:15.202073Z",
     "iopub.status.busy": "2025-10-15T12:35:15.201943Z",
     "iopub.status.idle": "2025-10-15T12:35:15.225951Z",
     "shell.execute_reply": "2025-10-15T12:35:15.224356Z"
    }
   },
   "outputs": [
    {
     "name": "stdout",
     "output_type": "stream",
     "text": [
      "Raw data shape: (1078, 3)\n"
     ]
    },
    {
     "data": {
      "text/html": [
       "<div>\n",
       "<style scoped>\n",
       "    .dataframe tbody tr th:only-of-type {\n",
       "        vertical-align: middle;\n",
       "    }\n",
       "\n",
       "    .dataframe tbody tr th {\n",
       "        vertical-align: top;\n",
       "    }\n",
       "\n",
       "    .dataframe thead th {\n",
       "        text-align: right;\n",
       "    }\n",
       "</style>\n",
       "<table border=\"1\" class=\"dataframe\">\n",
       "  <thead>\n",
       "    <tr style=\"text-align: right;\">\n",
       "      <th></th>\n",
       "      <th>Date</th>\n",
       "      <th>Season</th>\n",
       "      <th>Positivity (%)</th>\n",
       "    </tr>\n",
       "  </thead>\n",
       "  <tbody>\n",
       "    <tr>\n",
       "      <th>0</th>\n",
       "      <td>4 July 2022</td>\n",
       "      <td>2022 to 2023</td>\n",
       "      <td>0.3</td>\n",
       "    </tr>\n",
       "    <tr>\n",
       "      <th>1</th>\n",
       "      <td>5 July 2022</td>\n",
       "      <td>2022 to 2023</td>\n",
       "      <td>0.4</td>\n",
       "    </tr>\n",
       "    <tr>\n",
       "      <th>2</th>\n",
       "      <td>6 July 2022</td>\n",
       "      <td>2022 to 2023</td>\n",
       "      <td>0.5</td>\n",
       "    </tr>\n",
       "    <tr>\n",
       "      <th>3</th>\n",
       "      <td>7 July 2022</td>\n",
       "      <td>2022 to 2023</td>\n",
       "      <td>0.5</td>\n",
       "    </tr>\n",
       "    <tr>\n",
       "      <th>4</th>\n",
       "      <td>8 July 2022</td>\n",
       "      <td>2022 to 2023</td>\n",
       "      <td>0.5</td>\n",
       "    </tr>\n",
       "  </tbody>\n",
       "</table>\n",
       "</div>"
      ],
      "text/plain": [
       "          Date        Season  Positivity (%)\n",
       "0  4 July 2022  2022 to 2023             0.3\n",
       "1  5 July 2022  2022 to 2023             0.4\n",
       "2  6 July 2022  2022 to 2023             0.5\n",
       "3  7 July 2022  2022 to 2023             0.5\n",
       "4  8 July 2022  2022 to 2023             0.5"
      ]
     },
     "execution_count": 4,
     "metadata": {},
     "output_type": "execute_result"
    }
   ],
   "source": [
    "# Read CSV, skipping header rows\n",
    "df = pd.read_csv(raw_file, skiprows=3)\n",
    "print(f\"Raw data shape: {df.shape}\")\n",
    "df.head()"
   ]
  },
  {
   "cell_type": "code",
   "execution_count": 5,
   "metadata": {
    "execution": {
     "iopub.execute_input": "2025-10-15T12:35:15.257043Z",
     "iopub.status.busy": "2025-10-15T12:35:15.256888Z",
     "iopub.status.idle": "2025-10-15T12:35:15.267490Z",
     "shell.execute_reply": "2025-10-15T12:35:15.266759Z"
    }
   },
   "outputs": [
    {
     "name": "stdout",
     "output_type": "stream",
     "text": [
      "\n",
      "Date range: 2022-07-04 00:00:00 to 2025-06-15 00:00:00\n",
      "Total observations: 1078\n"
     ]
    }
   ],
   "source": [
    "# Parse dates with correct format and set as index\n",
    "df['Date'] = pd.to_datetime(df['Date'], format='%d %B %Y')\n",
    "df = df.set_index('Date')\n",
    "print(f\"\\nDate range: {df.index.min()} to {df.index.max()}\")\n",
    "print(f\"Total observations: {len(df)}\")"
   ]
  },
  {
   "cell_type": "code",
   "execution_count": 6,
   "metadata": {
    "execution": {
     "iopub.execute_input": "2025-10-15T12:35:15.268810Z",
     "iopub.status.busy": "2025-10-15T12:35:15.268679Z",
     "iopub.status.idle": "2025-10-15T12:35:15.272115Z",
     "shell.execute_reply": "2025-10-15T12:35:15.271362Z"
    }
   },
   "outputs": [
    {
     "name": "stdout",
     "output_type": "stream",
     "text": [
      "\n",
      "Series shape: (1078,)\n",
      "Data type: float64\n"
     ]
    }
   ],
   "source": [
    "# Extract positivity column as Series\n",
    "ts = df['Positivity (%)'].copy()\n",
    "ts.name = 'positivity'\n",
    "print(f\"\\nSeries shape: {ts.shape}\")\n",
    "print(f\"Data type: {ts.dtype}\")"
   ]
  },
  {
   "cell_type": "markdown",
   "metadata": {},
   "source": [
    "## Quality Checks"
   ]
  },
  {
   "cell_type": "code",
   "execution_count": 7,
   "metadata": {
    "execution": {
     "iopub.execute_input": "2025-10-15T12:35:15.273504Z",
     "iopub.status.busy": "2025-10-15T12:35:15.273366Z",
     "iopub.status.idle": "2025-10-15T12:35:15.276492Z",
     "shell.execute_reply": "2025-10-15T12:35:15.275863Z"
    }
   },
   "outputs": [
    {
     "name": "stdout",
     "output_type": "stream",
     "text": [
      "Missing values: 0\n"
     ]
    }
   ],
   "source": [
    "# Check for missing values\n",
    "missing = ts.isna().sum()\n",
    "print(f\"Missing values: {missing}\")\n",
    "if missing > 0:\n",
    "    print(\"WARNING: Missing values detected!\")"
   ]
  },
  {
   "cell_type": "code",
   "execution_count": 8,
   "metadata": {
    "execution": {
     "iopub.execute_input": "2025-10-15T12:35:15.277829Z",
     "iopub.status.busy": "2025-10-15T12:35:15.277708Z",
     "iopub.status.idle": "2025-10-15T12:35:15.280982Z",
     "shell.execute_reply": "2025-10-15T12:35:15.279833Z"
    }
   },
   "outputs": [
    {
     "name": "stdout",
     "output_type": "stream",
     "text": [
      "Duplicate dates: 0\n"
     ]
    }
   ],
   "source": [
    "# Check for duplicate dates\n",
    "duplicates = ts.index.duplicated().sum()\n",
    "print(f\"Duplicate dates: {duplicates}\")\n",
    "if duplicates > 0:\n",
    "    print(\"WARNING: Duplicate dates detected!\")"
   ]
  },
  {
   "cell_type": "code",
   "execution_count": 9,
   "metadata": {
    "execution": {
     "iopub.execute_input": "2025-10-15T12:35:15.282457Z",
     "iopub.status.busy": "2025-10-15T12:35:15.282308Z",
     "iopub.status.idle": "2025-10-15T12:35:15.286173Z",
     "shell.execute_reply": "2025-10-15T12:35:15.285498Z"
    }
   },
   "outputs": [
    {
     "name": "stdout",
     "output_type": "stream",
     "text": [
      "Expected daily observations: 1078\n",
      "Actual observations: 1078\n",
      "Continuous daily series: True\n"
     ]
    }
   ],
   "source": [
    "# Verify daily frequency (no gaps)\n",
    "expected_days = (ts.index.max() - ts.index.min()).days + 1\n",
    "actual_days = len(ts)\n",
    "print(f\"Expected daily observations: {expected_days}\")\n",
    "print(f\"Actual observations: {actual_days}\")\n",
    "print(f\"Continuous daily series: {expected_days == actual_days}\")\n",
    "\n",
    "if expected_days != actual_days:\n",
    "    print(f\"WARNING: Gap detected! Missing {expected_days - actual_days} days\")"
   ]
  },
  {
   "cell_type": "code",
   "execution_count": 10,
   "metadata": {
    "execution": {
     "iopub.execute_input": "2025-10-15T12:35:15.287350Z",
     "iopub.status.busy": "2025-10-15T12:35:15.287238Z",
     "iopub.status.idle": "2025-10-15T12:35:15.291290Z",
     "shell.execute_reply": "2025-10-15T12:35:15.290629Z"
    }
   },
   "outputs": [
    {
     "name": "stdout",
     "output_type": "stream",
     "text": [
      "Frequency: <Day>\n"
     ]
    }
   ],
   "source": [
    "# Set explicit daily frequency\n",
    "ts = ts.asfreq('D')\n",
    "print(f\"Frequency: {ts.index.freq}\")"
   ]
  },
  {
   "cell_type": "code",
   "execution_count": 11,
   "metadata": {
    "execution": {
     "iopub.execute_input": "2025-10-15T12:35:15.293177Z",
     "iopub.status.busy": "2025-10-15T12:35:15.293008Z",
     "iopub.status.idle": "2025-10-15T12:35:15.299224Z",
     "shell.execute_reply": "2025-10-15T12:35:15.298360Z"
    }
   },
   "outputs": [
    {
     "name": "stdout",
     "output_type": "stream",
     "text": [
      "\n",
      "Summary Statistics:\n",
      "count    1078.000000\n",
      "mean        5.302412\n",
      "std         6.888317\n",
      "min         0.200000\n",
      "25%         0.900000\n",
      "50%         2.200000\n",
      "75%         7.775000\n",
      "max        33.000000\n",
      "Name: positivity, dtype: float64\n"
     ]
    }
   ],
   "source": [
    "# Summary statistics\n",
    "print(\"\\nSummary Statistics:\")\n",
    "print(ts.describe())"
   ]
  },
  {
   "cell_type": "markdown",
   "metadata": {},
   "source": [
    "## Visualization"
   ]
  },
  {
   "cell_type": "code",
   "execution_count": 12,
   "metadata": {
    "execution": {
     "iopub.execute_input": "2025-10-15T12:35:15.300462Z",
     "iopub.status.busy": "2025-10-15T12:35:15.300346Z",
     "iopub.status.idle": "2025-10-15T12:35:15.457309Z",
     "shell.execute_reply": "2025-10-15T12:35:15.456585Z"
    }
   },
   "outputs": [
    {
     "data": {
      "image/png": "[encoded data removed]",
      "text/plain": [
       "<Figure size 1400x600 with 1 Axes>"
      ]
     },
     "metadata": {},
     "output_type": "display_data"
    },
    {
     "name": "stdout",
     "output_type": "stream",
     "text": [
      "\n",
      "Data range: 0.2% to 33.0%\n"
     ]
    }
   ],
   "source": [
    "# Plot time series\n",
    "fig, ax = plt.subplots(figsize=(14, 6))\n",
    "ax.plot(ts.index, ts.values, linewidth=1.5, color='steelblue')\n",
    "ax.set_xlabel('Date', fontsize=12)\n",
    "ax.set_ylabel('Test Positivity (%)', fontsize=12)\n",
    "ax.set_title('NHS Flu Test Positivity - Daily 7-Day Rolling Average', fontsize=14, fontweight='bold')\n",
    "ax.grid(True, alpha=0.3)\n",
    "plt.tight_layout()\n",
    "plt.show()\n",
    "\n",
    "print(f\"\\nData range: {ts.min():.1f}% to {ts.max():.1f}%\")"
   ]
  },
  {
   "cell_type": "markdown",
   "metadata": {},
   "source": [
    "## Save Cleaned Data"
   ]
  },
  {
   "cell_type": "code",
   "execution_count": 13,
   "metadata": {
    "execution": {
     "iopub.execute_input": "2025-10-15T12:35:15.458694Z",
     "iopub.status.busy": "2025-10-15T12:35:15.458506Z",
     "iopub.status.idle": "2025-10-15T12:35:15.462363Z",
     "shell.execute_reply": "2025-10-15T12:35:15.461557Z"
    }
   },
   "outputs": [
    {
     "name": "stdout",
     "output_type": "stream",
     "text": [
      "Saved clean data to /home/mikhailarutyunov/projects/time-series-flu/data/flu_daily_clean.pkl\n",
      "File size: 26.2 KB\n"
     ]
    }
   ],
   "source": [
    "# Save as pickle to preserve datetime index frequency\n",
    "ts.to_pickle(output_file)\n",
    "print(f\"Saved clean data to {output_file}\")\n",
    "print(f\"File size: {output_file.stat().st_size / 1024:.1f} KB\")"
   ]
  },
  {
   "cell_type": "code",
   "execution_count": 14,
   "metadata": {
    "execution": {
     "iopub.execute_input": "2025-10-15T12:35:15.463671Z",
     "iopub.status.busy": "2025-10-15T12:35:15.463551Z",
     "iopub.status.idle": "2025-10-15T12:35:15.467005Z",
     "shell.execute_reply": "2025-10-15T12:35:15.466183Z"
    }
   },
   "outputs": [
    {
     "name": "stdout",
     "output_type": "stream",
     "text": [
      "\n",
      "Verification:\n",
      "Loaded shape: (1078,)\n",
      "Loaded frequency: <Day>\n",
      "Data matches original: True\n"
     ]
    }
   ],
   "source": [
    "# Verify saved file can be loaded\n",
    "ts_loaded = pd.read_pickle(output_file)\n",
    "print(f\"\\nVerification:\")\n",
    "print(f\"Loaded shape: {ts_loaded.shape}\")\n",
    "print(f\"Loaded frequency: {ts_loaded.index.freq}\")\n",
    "print(f\"Data matches original: {ts.equals(ts_loaded)}\")"
   ]
  },
  {
   "cell_type": "markdown",
   "metadata": {},
   "source": [
    "## Checkpoint Summary\n",
    "\n",
    "**Expected outcomes:**\n",
    "- 1078 daily observations (July 2022 - June 2025)\n",
    "- No missing values\n",
    "- Continuous daily frequency with no gaps\n",
    "- Data range: 0.2% - 33.0%\n",
    "- Plot shows seasonal flu patterns with winter peaks\n",
    "\n",
    "**Next:** Proceed to `02_roll_loop.ipynb` for rolling forecast generation."
   ]
  }
 ],
 "metadata": {
  "kernelspec": {
   "display_name": "Python 3",
   "language": "python",
   "name": "python3"
  },
  "language_info": {
   "codemirror_mode": {
    "name": "ipython",
    "version": 3
   },
   "file_extension": ".py",
   "mimetype": "text/x-python",
   "name": "python",
   "nbconvert_exporter": "python",
   "pygments_lexer": "ipython3",
   "version": "3.12.3"
  }
 },
 "nbformat": 4,
 "nbformat_minor": 4
}
